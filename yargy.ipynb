{
 "cells": [
  {
   "cell_type": "markdown",
   "metadata": {},
   "source": [
    "# Data"
   ]
  },
  {
   "cell_type": "code",
   "execution_count": 1,
   "metadata": {
    "code_folding": []
   },
   "outputs": [
    {
     "name": "stdout",
     "output_type": "stream",
     "text": [
      "/home/mi/work/spbmetro\n"
     ]
    }
   ],
   "source": [
    "%load_ext autoreload\n",
    "%autoreload 2\n",
    "\n",
    "%cd /home/mi/au/spbmetro\n",
    "\n",
    "from Levenshtein import distance\n",
    "from ipyannotate import annotate\n",
    "from ipyannotate.buttons import (ValueButton as Button, BackButton, NextButton)\n",
    "from yargy.tokenizer import MorphTokenizer\n",
    "from yargy.predicates import gram, in_, type, normalized, eq, custom\n",
    "from yargy.pipelines import morph_pipeline\n",
    "from yargy.relations import gnc_relation, main\n",
    "from yargy import or_, and_, not_, rule, Parser\n",
    "from yargy import interpretation as interp\n",
    "from yargy.interpretation import fact, attribute\n",
    "from yargy import interpretation as interp\n",
    "import yargy\n",
    "import re\n",
    "\n",
    "from notebook.common import *\n",
    "from structure import *\n",
    "from preprocess import *\n",
    "from notebook.helper import *\n",
    "\n",
    "\n",
    "def preprocess(text):\n",
    "    return text.replace('«', '').replace('»', '')\n",
    "\n",
    "history = History.load()\n",
    "texts = [preprocess(_.text) for _ in history.messages.values()]\n",
    "words = {w.lower() for _ in Subway.load().stations.keys() for w in _.split() if not w.isdigit()}\n",
    "texts = [fix_text(list(TOKENIZER(_)), words) for _ in texts]\n",
    "\n",
    "\n",
    "def check(rule, tree=False, facts=False):\n",
    "    return annotate(texts, buttons=[\n",
    "        Button('ok', color='green', shortcut='1'),\n",
    "        Button('err', color='red', shortcut='2'),\n",
    "        BackButton(shortcut='j'), NextButton(shortcut='k'),\n",
    "    ], display=lambda text: test(rule, text, tree=tree, facts=facts))"
   ]
  },
  {
   "cell_type": "markdown",
   "metadata": {},
   "source": [
    "# Grammar"
   ]
  },
  {
   "cell_type": "code",
   "execution_count": 2,
   "metadata": {
    "scrolled": true
   },
   "outputs": [
    {
     "data": {
      "text/plain": [
       "['ин', '-', 'т']"
      ]
     },
     "execution_count": 2,
     "metadata": {},
     "output_type": "execute_result"
    }
   ],
   "source": [
    "[t.value for t in TOKENIZER(' ин-т ')]"
   ]
  },
  {
   "cell_type": "markdown",
   "metadata": {},
   "source": [
    "## Time"
   ]
  },
  {
   "cell_type": "code",
   "execution_count": 3,
   "metadata": {
    "code_folding": [
     10
    ],
    "scrolled": false
   },
   "outputs": [
    {
     "data": {
      "text/html": [
       "<div class=\"tex2jax_ignore\" style=\"line-height: 1.6em; white-space: pre-wrap\"><span style=\"border-bottom: 2px solid #aec7e8; padding-bottom: 1px\">в  12:31</span> но не в 33:33 и не в 09:90</div>"
      ],
      "text/plain": [
       "LineMarkup('в  12:31 но не в 33:33 и не в 09:90', [Span(0, 8, '#aec7e8')])"
      ]
     },
     "metadata": {},
     "output_type": "display_data"
    },
    {
     "data": {
      "text/html": [
       "<div class=\"tex2jax_ignore\" style=\"line-height: 1.6em; white-space: pre-wrap\">что с  <span style=\"border-bottom: 2px solid #aec7e8; padding-bottom: 1px\">1:09</span>  по  <span style=\"border-bottom: 2px solid #aec7e8; padding-bottom: 1px\">8:09</span>  с  <span style=\"border-bottom: 2px solid #aec7e8; padding-bottom: 1px\">8:20</span>  до  <span style=\"border-bottom: 2px solid #aec7e8; padding-bottom: 1px\">9:00  ч</span> вход</div>"
      ],
      "text/plain": [
       "LineMarkup('что с  1:09  по  8:09  с  8:20  до  9:00  ч вход',\n",
       "           [Span(7, 11, '#aec7e8'),\n",
       "            Span(17, 21, '#aec7e8'),\n",
       "            Span(26, 30, '#aec7e8'),\n",
       "            Span(36, 43, '#aec7e8')])"
      ]
     },
     "metadata": {},
     "output_type": "display_data"
    },
    {
     "data": {
      "text/html": [
       "<div class=\"tex2jax_ignore\" style=\"line-height: 1.6em; white-space: pre-wrap\">что  <span style=\"border-bottom: 2px solid #ff9896; padding-bottom: 1px\">10:02</span> .2018 и <span style=\"border-bottom: 2px solid #ff9896; padding-bottom: 1px\">10.02</span>.2018 станция закрыта</div>"
      ],
      "text/plain": [
       "LineMarkup('что  10:02 .2018 и 10.02.2018 станция закрыта',\n",
       "           [Span(5, 10, '#ff9896'), Span(19, 24, '#ff9896')])"
      ]
     },
     "metadata": {},
     "output_type": "display_data"
    },
    {
     "data": {
      "text/html": [
       "<div class=\"tex2jax_ignore\" style=\"line-height: 1.6em; white-space: pre-wrap\">с<span style=\"border-bottom: 2px solid #aec7e8; padding-bottom: 1px\">16ч 04 мин</span> до конца рабочего дня станция закрыта</div>"
      ],
      "text/plain": [
       "LineMarkup('с16ч 04 мин до конца рабочего дня станция закрыта',\n",
       "           [Span(1, 11, '#aec7e8')])"
      ]
     },
     "metadata": {},
     "output_type": "display_data"
    },
    {
     "data": {
      "text/html": [
       "<div class=\"tex2jax_ignore\" style=\"line-height: 1.6em; white-space: pre-wrap\"><span style=\"border-bottom: 2px solid #aec7e8; padding-bottom: 1px\">в 17 ч02 мин</span> александра невского 1-2 закрыт <span style=\"border-bottom: 2px solid #aec7e8; padding-bottom: 1px\">в  18.40</span> и <span style=\"border-bottom: 2px solid #aec7e8; padding-bottom: 1px\">в 18- 40</span> </div>"
      ],
      "text/plain": [
       "LineMarkup('в 17 ч02 мин александра невского 1-2 закрыт в  18.40 и в 18- 40 ',\n",
       "           [Span(0, 12, '#aec7e8'),\n",
       "            Span(44, 52, '#aec7e8'),\n",
       "            Span(55, 63, '#aec7e8')])"
      ]
     },
     "metadata": {},
     "output_type": "display_data"
    },
    {
     "data": {
      "text/html": [
       "<div class=\"tex2jax_ignore\" style=\"line-height: 1.6em; white-space: pre-wrap\">баллончик <span style=\"border-bottom: 2px solid #aec7e8; padding-bottom: 1px\">в  18:10 ч.</span> нарушитель, с <span style=\"border-bottom: 2px solid #aec7e8; padding-bottom: 1px\">10-27 мин</span></div>"
      ],
      "text/plain": [
       "LineMarkup('баллончик в  18:10 ч. нарушитель, с 10-27 мин',\n",
       "           [Span(10, 21, '#aec7e8'), Span(36, 45, '#aec7e8')])"
      ]
     },
     "metadata": {},
     "output_type": "display_data"
    },
    {
     "data": {
      "text/html": [
       "<div class=\"tex2jax_ignore\" style=\"line-height: 1.6em; white-space: pre-wrap\">пункт <span style=\"border-bottom: 2px solid #ff9896; padding-bottom: 1px\">2. </span><span style=\"border-bottom: 2px solid #ff9896; padding-bottom: 1px\"><span style=\"border-bottom: 2px solid #ccc; padding-bottom: 4px\">16</span></span><span style=\"border-bottom: 2px solid #ccc; padding-bottom: 4px\">-40</span> закрыта платформа</div>"
      ],
      "text/plain": [
       "LineMarkup('пункт 2. 16-40 закрыта платформа',\n",
       "           [Span(6, 11, '#ff9896'), Span(9, 14, '#ccc')])"
      ]
     },
     "metadata": {},
     "output_type": "display_data"
    }
   ],
   "source": [
    "from notebook.time import TIME\n",
    "\n",
    "test(TIME,\n",
    "     ['в  12:31 но не в 33:33 и не в 09:90',               'в  12:31'],\n",
    "     ['что с  1:09  по  8:09  с  8:20  до  9:00  ч вход',  '1:09', '8:09', '8:20', '9:00  ч'],\n",
    "     ['что  10:02 .2018 и 10.02.2018 станция закрыта'],\n",
    "     ['с16ч 04 мин до конца рабочего дня станция закрыта', '16ч 04 мин'],\n",
    "     ['в 17 ч02 мин александра невского 1-2 закрыт в  18.40 и в 18- 40 ', \n",
    "                                                           'в 17 ч02 мин', 'в  18.40', 'в 18- 40'],\n",
    "     ['баллончик в  18:10 ч. нарушитель, с 10-27 мин',     'в  18:10 ч.', '10-27 мин'],\n",
    "     ['пункт 2. 16-40 закрыта платформа',                  '16-40'],\n",
    "     facts=False, tree=False\n",
    "     )"
   ]
  },
  {
   "cell_type": "code",
   "execution_count": 4,
   "metadata": {},
   "outputs": [],
   "source": [
    "# annotate_time = check(TIME, facts=True);\n",
    "# annotate_time\n",
    "# print('failed:', len([_ for _ in annotate_time.tasks if _.value != 'ok']), '/', len(annotate_time.tasks))"
   ]
  },
  {
   "cell_type": "markdown",
   "metadata": {},
   "source": [
    "## Duration"
   ]
  },
  {
   "cell_type": "code",
   "execution_count": 5,
   "metadata": {
    "code_folding": [
     12
    ],
    "scrolled": true
   },
   "outputs": [
    {
     "data": {
      "text/html": [
       "<div class=\"tex2jax_ignore\" style=\"line-height: 1.6em; white-space: pre-wrap\"><span style=\"border-bottom: 2px solid #aec7e8; padding-bottom: 1px\">с  12:31</span> но не с 33:33 до 09:90 а <span style=\"border-bottom: 2px solid #aec7e8; padding-bottom: 1px\">до 09:30</span></div>"
      ],
      "text/plain": [
       "LineMarkup('с  12:31 но не с 33:33 до 09:90 а до 09:30',\n",
       "           [Span(0, 8, '#aec7e8'), Span(34, 42, '#aec7e8')])"
      ]
     },
     "metadata": {},
     "output_type": "display_data"
    },
    {
     "data": {
      "text/html": [
       "<div class=\"tex2jax_ignore\" style=\"line-height: 1.6em; white-space: pre-wrap\">что <span style=\"border-bottom: 2px solid #aec7e8; padding-bottom: 1px\">с  1:09  по  8:09</span>  <span style=\"border-bottom: 2px solid #aec7e8; padding-bottom: 1px\">с  8:20  до  9:00  ч</span> вход</div>"
      ],
      "text/plain": [
       "LineMarkup('что с  1:09  по  8:09  с  8:20  до  9:00  ч вход',\n",
       "           [Span(4, 21, '#aec7e8'), Span(23, 43, '#aec7e8')])"
      ]
     },
     "metadata": {},
     "output_type": "display_data"
    },
    {
     "data": {
      "text/html": [
       "<div class=\"tex2jax_ignore\" style=\"line-height: 1.6em; white-space: pre-wrap\">что <span style=\"border-bottom: 2px solid #ff9896; padding-bottom: 1px\">с 10:02</span> .2018 и <span style=\"border-bottom: 2px solid #ff9896; padding-bottom: 1px\">с 10.02</span>.2018 станция закрыта</div>"
      ],
      "text/plain": [
       "LineMarkup('что с 10:02 .2018 и с 10.02.2018 станция закрыта',\n",
       "           [Span(4, 11, '#ff9896'), Span(20, 27, '#ff9896')])"
      ]
     },
     "metadata": {},
     "output_type": "display_data"
    },
    {
     "data": {
      "text/html": [
       "<div class=\"tex2jax_ignore\" style=\"line-height: 1.6em; white-space: pre-wrap\"><span style=\"border-bottom: 2px solid #aec7e8; padding-bottom: 1px\">с16ч 04 мин до конца рабочего дня</span> станция закрыта</div>"
      ],
      "text/plain": [
       "LineMarkup('с16ч 04 мин до конца рабочего дня станция закрыта',\n",
       "           [Span(0, 33, '#aec7e8')])"
      ]
     },
     "metadata": {},
     "output_type": "display_data"
    },
    {
     "data": {
      "text/html": [
       "<div class=\"tex2jax_ignore\" style=\"line-height: 1.6em; white-space: pre-wrap\"><span style=\"border-bottom: 2px solid #aec7e8; padding-bottom: 1px\">с 17 ч02 мин</span> александра невского 1-2 до конечной станции закрыты <span style=\"border-bottom: 2px solid #aec7e8; padding-bottom: 1px\">с 18:40</span> и <span style=\"border-bottom: 2px solid #aec7e8; padding-bottom: 1px\">с 18- 40</span></div>"
      ],
      "text/plain": [
       "LineMarkup('с 17 ч02 мин александра невского 1-2 до конечной станции закрыты с 18:40 и с 18- 40',\n",
       "           [Span(0, 12, '#aec7e8'),\n",
       "            Span(65, 72, '#aec7e8'),\n",
       "            Span(75, 83, '#aec7e8')])"
      ]
     },
     "metadata": {},
     "output_type": "display_data"
    },
    {
     "data": {
      "text/html": [
       "<div class=\"tex2jax_ignore\" style=\"line-height: 1.6em; white-space: pre-wrap\"><span style=\"border-bottom: 2px solid #aec7e8; padding-bottom: 1px\">с  18:10 ч.</span> закрыта, <span style=\"border-bottom: 2px solid #aec7e8; padding-bottom: 1px\">с 10-27 мин</span> тоже</div>"
      ],
      "text/plain": [
       "LineMarkup('с  18:10 ч. закрыта, с 10-27 мин тоже',\n",
       "           [Span(0, 11, '#aec7e8'), Span(21, 32, '#aec7e8')])"
      ]
     },
     "metadata": {},
     "output_type": "display_data"
    },
    {
     "data": {
      "text/html": [
       "<div class=\"tex2jax_ignore\" style=\"line-height: 1.6em; white-space: pre-wrap\"><span style=\"border-bottom: 2px solid #aec7e8; padding-bottom: 1px\">с 17-00 до окончания</span> будет</div>"
      ],
      "text/plain": [
       "LineMarkup('с 17-00 до окончания будет', [Span(0, 20, '#aec7e8')])"
      ]
     },
     "metadata": {},
     "output_type": "display_data"
    }
   ],
   "source": [
    "from notebook.duration import DURATION\n",
    "\n",
    "test(DURATION,\n",
    "     ['с  12:31 но не с 33:33 до 09:90 а до 09:30', 'с  12:31', 'до 09:30'],\n",
    "     ['что с  1:09  по  8:09  с  8:20  до  9:00  ч вход', 'с  1:09  по  8:09', 'с  8:20  до  9:00  ч'],\n",
    "     ['что с 10:02 .2018 и с 10.02.2018 станция закрыта'],\n",
    "     ['с16ч 04 мин до конца рабочего дня станция закрыта', 'с16ч 04 мин до конца рабочего дня'],\n",
    "     ['с 17 ч02 мин александра невского 1-2 до конечной станции закрыты с 18:40 и с 18- 40',\n",
    "          'с 17 ч02 мин', 'с 18:40', 'с 18- 40'],\n",
    "     ['с  18:10 ч. закрыта, с 10-27 мин тоже', 'с  18:10 ч.', 'с 10-27 мин'],\n",
    "     ['с 17-00 до окончания будет', 'с 17-00 до окончания'],\n",
    "     facts=False, tree=False\n",
    "     )"
   ]
  },
  {
   "cell_type": "markdown",
   "metadata": {},
   "source": [
    "## Literals"
   ]
  },
  {
   "cell_type": "code",
   "execution_count": 6,
   "metadata": {},
   "outputs": [
    {
     "data": {
      "text/html": [
       "<div class=\"tex2jax_ignore\" style=\"line-height: 1.6em; white-space: pre-wrap\">без <span style=\"border-bottom: 2px solid #aec7e8; padding-bottom: 1px\">двух</span>; <span style=\"border-bottom: 2px solid #aec7e8; padding-bottom: 1px\">один</span>, <span style=\"border-bottom: 2px solid #aec7e8; padding-bottom: 1px\">два</span>; <span style=\"border-bottom: 2px solid #aec7e8; padding-bottom: 1px\">первый</span>, <span style=\"border-bottom: 2px solid #aec7e8; padding-bottom: 1px\">второй</span></div>"
      ],
      "text/plain": [
       "LineMarkup('без двух; один, два; первый, второй',\n",
       "           [Span(4, 8, '#aec7e8'),\n",
       "            Span(10, 14, '#aec7e8'),\n",
       "            Span(16, 19, '#aec7e8'),\n",
       "            Span(21, 27, '#aec7e8'),\n",
       "            Span(29, 35, '#aec7e8')])"
      ]
     },
     "metadata": {},
     "output_type": "display_data"
    },
    {
     "data": {
      "text/html": [
       "<div class=\"tex2jax_ignore\" style=\"line-height: 1.6em; white-space: pre-wrap\">вестибюль - <span style=\"border-bottom: 2px solid #ff9896; padding-bottom: 1px\">1, 2</span>;   невского <span style=\"border-bottom: 2px solid #ff9896; padding-bottom: 1px\">1 и 2</span>;   восстания <span style=\"border-bottom: 2px solid #ff9896; padding-bottom: 1px\">1</span></div>"
      ],
      "text/plain": [
       "LineMarkup('вестибюль - 1, 2;   невского 1 и 2;   восстания 1',\n",
       "           [Span(12, 16, '#ff9896'),\n",
       "            Span(29, 34, '#ff9896'),\n",
       "            Span(48, 49, '#ff9896')])"
      ]
     },
     "metadata": {},
     "output_type": "display_data"
    },
    {
     "data": {
      "text/html": [
       "<div class=\"tex2jax_ignore\" style=\"line-height: 1.6em; white-space: pre-wrap\"><span style=\"border-bottom: 2px solid #ff9896; padding-bottom: 1px\">второй и первый</span> павильоны; <span style=\"border-bottom: 2px solid #ff9896; padding-bottom: 1px\">первый - второй</span> вестибюли</div>"
      ],
      "text/plain": [
       "LineMarkup('второй и первый павильоны; первый - второй вестибюли',\n",
       "           [Span(0, 15, '#ff9896'), Span(27, 42, '#ff9896')])"
      ]
     },
     "metadata": {},
     "output_type": "display_data"
    }
   ],
   "source": [
    "from notebook.literal import *\n",
    "\n",
    "test(LITERAL, ['без двух; один, два; первый, второй', 'двух', 'один', 'два', 'первый', 'второй'], facts=False)\n",
    "test(LIST_OF_NUMERALS, ['вестибюль - 1, 2;   невского 1 и 2;   восстания 1'], facts=False)\n",
    "test(LIST_OF_LITERALS, ['второй и первый павильоны; первый - второй вестибюли'], facts=False)"
   ]
  },
  {
   "cell_type": "markdown",
   "metadata": {},
   "source": [
    "## Vestibules"
   ]
  },
  {
   "cell_type": "code",
   "execution_count": 7,
   "metadata": {
    "code_folding": []
   },
   "outputs": [
    {
     "data": {
      "text/html": [
       "<div class=\"tex2jax_ignore\" style=\"line-height: 1.6em; white-space: pre-wrap\"><span style=\"border-bottom: 2px solid #aec7e8; padding-bottom: 1px\">вестибюли 1 и 2</span> ст . ленинский проспект открыт</div>"
      ],
      "text/plain": [
       "LineMarkup('вестибюли 1 и 2 ст . ленинский проспект открыт',\n",
       "           [Span(0, 15, '#aec7e8')])"
      ]
     },
     "metadata": {},
     "output_type": "display_data"
    },
    {
     "data": {
      "text/plain": [
       "Vestibules(num=[1, 2])"
      ]
     },
     "metadata": {},
     "output_type": "display_data"
    },
    {
     "data": {
      "text/html": [
       "<div class=\"tex2jax_ignore\" style=\"line-height: 1.6em; white-space: pre-wrap\">Временно открыт <span style=\"border-bottom: 2px solid #aec7e8; padding-bottom: 1px\">вестибюль 2</span> ст. Достоевская на вход и выход.</div>"
      ],
      "text/plain": [
       "LineMarkup('Временно открыт вестибюль 2 ст. Достоевская на вход и выход.',\n",
       "           [Span(16, 27, '#aec7e8')])"
      ]
     },
     "metadata": {},
     "output_type": "display_data"
    },
    {
     "data": {
      "text/plain": [
       "Vestibules(num=[2])"
      ]
     },
     "metadata": {},
     "output_type": "display_data"
    },
    {
     "data": {
      "text/html": [
       "<div class=\"tex2jax_ignore\" style=\"line-height: 1.6em; white-space: pre-wrap\"><span style=\"border-bottom: 2px solid #aec7e8; padding-bottom: 1px\">Второй и первый вестибюли</span> открыты</div>"
      ],
      "text/plain": [
       "LineMarkup('Второй и первый вестибюли открыты', [Span(0, 25, '#aec7e8')])"
      ]
     },
     "metadata": {},
     "output_type": "display_data"
    },
    {
     "data": {
      "text/plain": [
       "Vestibules(num=[1, 2])"
      ]
     },
     "metadata": {},
     "output_type": "display_data"
    }
   ],
   "source": [
    "from notebook.vestibule import VESTIBULE\n",
    "\n",
    "test(VESTIBULE,\n",
    "    ['вестибюли 1 и 2 ст . ленинский проспект открыт', 'вестибюли 1 и 2'],\n",
    "    ['Временно открыт вестибюль 2 ст. Достоевская на вход и выход.', 'вестибюль 2'],\n",
    "    ['Второй и первый вестибюли открыты', 'Второй и первый вестибюли'],\n",
    "    facts=True)"
   ]
  },
  {
   "cell_type": "markdown",
   "metadata": {},
   "source": [
    "## Station titles"
   ]
  },
  {
   "cell_type": "code",
   "execution_count": 8,
   "metadata": {
    "scrolled": false
   },
   "outputs": [
    {
     "data": {
      "text/html": [
       "<div class=\"tex2jax_ignore\" style=\"line-height: 1.6em; white-space: pre-wrap\"><span style=\"border-bottom: 2px solid #aec7e8; padding-bottom: 1px\">Гостинку</span> и <span style=\"border-bottom: 2px solid #aec7e8; padding-bottom: 1px\">гостиный двор</span> 28 апреля 2018 года ст . <span style=\"border-bottom: 2px solid #aec7e8; padding-bottom: 1px\">приморская</span> закрыта</div>"
      ],
      "text/plain": [
       "LineMarkup('Гостинку и гостиный двор 28 апреля 2018 года ст . приморская закрыта',\n",
       "           [Span(0, 8, '#aec7e8'),\n",
       "            Span(11, 24, '#aec7e8'),\n",
       "            Span(50, 60, '#aec7e8')])"
      ]
     },
     "metadata": {},
     "output_type": "display_data"
    },
    {
     "data": {
      "text/html": [
       "<div class=\"tex2jax_ignore\" style=\"line-height: 1.6em; white-space: pre-wrap\"><span style=\"border-bottom: 2px solid #aec7e8; padding-bottom: 1px\">техн и-т</span> закрыт; переход <span style=\"border-bottom: 2px solid #aec7e8; padding-bottom: 1px\">тн</span> 1 открыт, для тех кто не знал </div>"
      ],
      "text/plain": [
       "LineMarkup('техн и-т закрыт; переход тн 1 открыт, для тех кто не знал ',\n",
       "           [Span(0, 8, '#aec7e8'), Span(25, 27, '#aec7e8')])"
      ]
     },
     "metadata": {},
     "output_type": "display_data"
    },
    {
     "data": {
      "text/html": [
       "<div class=\"tex2jax_ignore\" style=\"line-height: 1.6em; white-space: pre-wrap\"> ст . <span style=\"border-bottom: 2px solid #aec7e8; padding-bottom: 1px\">технологический ин - т</span> открыта . опасных предметов не обнаружено</div>"
      ],
      "text/plain": [
       "LineMarkup(' ст . технологический ин - т открыта . опасных предметов не обнаружено',\n",
       "           [Span(6, 28, '#aec7e8')])"
      ]
     },
     "metadata": {},
     "output_type": "display_data"
    },
    {
     "data": {
      "text/html": [
       "<div class=\"tex2jax_ignore\" style=\"line-height: 1.6em; white-space: pre-wrap\">выход на улицу <span style=\"border-bottom: 2px solid #ff9896; padding-bottom: 1px\">восстания</span> и <span style=\"border-bottom: 2px solid #ff9896; padding-bottom: 1px\">московский</span> вокзал; <span style=\"border-bottom: 2px solid #ff9896; padding-bottom: 1px\">спортивная</span> сумка</div>"
      ],
      "text/plain": [
       "LineMarkup('выход на улицу восстания и московский вокзал; спортивная сумка',\n",
       "           [Span(15, 24, '#ff9896'),\n",
       "            Span(27, 37, '#ff9896'),\n",
       "            Span(46, 56, '#ff9896')])"
      ]
     },
     "metadata": {},
     "output_type": "display_data"
    },
    {
     "data": {
      "text/html": [
       "<div class=\"tex2jax_ignore\" style=\"line-height: 1.6em; white-space: pre-wrap\">В 19-54 ст. <span style=\"border-bottom: 2px solid #aec7e8; padding-bottom: 1px\">Ст. Деревня</span> открыта, опасных предметов не обнаружено.</div>"
      ],
      "text/plain": [
       "LineMarkup('В 19-54 ст. Ст. Деревня открыта, опасных предметов не обнаружено.',\n",
       "           [Span(12, 23, '#aec7e8')])"
      ]
     },
     "metadata": {},
     "output_type": "display_data"
    },
    {
     "data": {
      "text/html": [
       "<div class=\"tex2jax_ignore\" style=\"line-height: 1.6em; white-space: pre-wrap\">в 19 - 54 <span style=\"border-bottom: 2px solid #ccc; padding-bottom: 1px\">ст . . деревня</span> открыта , ст. Ст. <span style=\"border-bottom: 2px solid #aec7e8; padding-bottom: 1px\">Гражданский пр.</span></div>"
      ],
      "text/plain": [
       "LineMarkup('в 19 - 54 ст . . деревня открыта , ст. Ст. Гражданский пр.',\n",
       "           [Span(10, 24, '#ccc'), Span(43, 58, '#aec7e8')])"
      ]
     },
     "metadata": {},
     "output_type": "display_data"
    },
    {
     "data": {
      "text/html": [
       "<div class=\"tex2jax_ignore\" style=\"line-height: 1.6em; white-space: pre-wrap\">ст . <span style=\"border-bottom: 2px solid #aec7e8; padding-bottom: 1px\">технологический</span> - 1 и переход на ст . <span style=\"border-bottom: 2px solid #aec7e8; padding-bottom: 1px\">технолог .</span> - 2 </div>"
      ],
      "text/plain": [
       "LineMarkup('ст . технологический - 1 и переход на ст . технолог . - 2 ',\n",
       "           [Span(5, 20, '#aec7e8'), Span(43, 53, '#aec7e8')])"
      ]
     },
     "metadata": {},
     "output_type": "display_data"
    },
    {
     "data": {
      "text/html": [
       "<div class=\"tex2jax_ignore\" style=\"line-height: 1.6em; white-space: pre-wrap\">комментарии губернатора спб . полтавченко <span style=\"border-bottom: 2px solid #ff9896; padding-bottom: 1px\">г .</span> с </div>"
      ],
      "text/plain": [
       "LineMarkup('комментарии губернатора спб . полтавченко г . с ',\n",
       "           [Span(42, 45, '#ff9896')])"
      ]
     },
     "metadata": {},
     "output_type": "display_data"
    },
    {
     "data": {
      "text/html": [
       "<div class=\"tex2jax_ignore\" style=\"line-height: 1.6em; white-space: pre-wrap\">ст . <span style=\"border-bottom: 2px solid #ccc; padding-bottom: 1px\">гостинный двор</span>; на ст . <span style=\"border-bottom: 2px solid #ccc; padding-bottom: 1px\">ладожкская</span> снято</div>"
      ],
      "text/plain": [
       "LineMarkup('ст . гостинный двор; на ст . ладожкская снято',\n",
       "           [Span(5, 19, '#ccc'), Span(29, 39, '#ccc')])"
      ]
     },
     "metadata": {},
     "output_type": "display_data"
    }
   ],
   "source": [
    "from notebook.station_title import STATION_TITLE\n",
    "\n",
    "test(STATION_TITLE,\n",
    "     ['Гостинку и гостиный двор 28 апреля 2018 года ст . приморская закрыта', 'гостиный двор', 'Гостинку', 'приморская'],\n",
    "     ['техн и-т закрыт; переход тн 1 открыт, для тех кто не знал ', 'техн и-т', 'тн'],\n",
    "     [' ст . технологический ин - т открыта . опасных предметов не обнаружено', 'технологический ин - т'],\n",
    "     ['выход на улицу восстания и московский вокзал; спортивная сумка', ],\n",
    "     ['В 19-54 ст. Ст. Деревня открыта, опасных предметов не обнаружено.', 'Ст. Деревня'],\n",
    "     ['в 19 - 54 ст . . деревня открыта , ст. Ст. Гражданский пр.', 'ст . . деревня', 'Гражданский пр.'],\n",
    "     ['ст . технологический - 1 и переход на ст . технолог . - 2 ', 'технологический', 'технолог .'],\n",
    "     ['комментарии губернатора спб . полтавченко г . с '],\n",
    "     ['ст . гостинный двор; на ст . ладожкская снято', 'гостинный двор', 'ладожкская'],\n",
    "     facts=False, tree=False)"
   ]
  },
  {
   "cell_type": "markdown",
   "metadata": {},
   "source": [
    "## Stations & Transfers"
   ]
  },
  {
   "cell_type": "code",
   "execution_count": 44,
   "metadata": {
    "scrolled": false
   },
   "outputs": [
    {
     "data": {
      "text/html": [
       "<div class=\"tex2jax_ignore\" style=\"line-height: 1.6em; white-space: pre-wrap\"><span style=\"border-bottom: 2px solid #aec7e8; padding-bottom: 1px\">переход Гостиный двор- Невский пр.</span> открыт</div>"
      ],
      "text/plain": [
       "LineMarkup('переход Гостиный двор- Невский пр. открыт',\n",
       "           [Span(0, 34, '#aec7e8')])"
      ]
     },
     "metadata": {},
     "output_type": "display_data"
    },
    {
     "data": {
      "text/html": [
       "<div class=\"tex2jax_ignore\" style=\"line-height: 1.6em; white-space: pre-wrap\"><span style=\"border-bottom: 2px solid #aec7e8; padding-bottom: 1px\">Переход со ст. Достоевская на ст.Владимирская</span> закрыт</div>"
      ],
      "text/plain": [
       "LineMarkup('Переход со ст. Достоевская на ст.Владимирская закрыт',\n",
       "           [Span(0, 45, '#aec7e8')])"
      ]
     },
     "metadata": {},
     "output_type": "display_data"
    },
    {
     "data": {
      "text/html": [
       "<div class=\"tex2jax_ignore\" style=\"line-height: 1.6em; white-space: pre-wrap\"><span style=\"border-bottom: 2px solid #ff9896; padding-bottom: 1px\"><span style=\"border-bottom: 2px solid #ccc; padding-bottom: 4px\">переход</span></span><span style=\"border-bottom: 2px solid #ccc; padding-bottom: 4px\"> на верхнюю платформу</span> закрыт</div>"
      ],
      "text/plain": [
       "LineMarkup('переход на верхнюю платформу закрыт',\n",
       "           [Span(0, 7, '#ff9896'), Span(0, 28, '#ccc')])"
      ]
     },
     "metadata": {},
     "output_type": "display_data"
    },
    {
     "data": {
      "text/html": [
       "<div class=\"tex2jax_ignore\" style=\"line-height: 1.6em; white-space: pre-wrap\">Ст. пл. Ал.Невского2 и <span style=\"border-bottom: 2px solid #aec7e8; padding-bottom: 1px\">переход Ал.Невского1-2</span> закрыт</div>"
      ],
      "text/plain": [
       "LineMarkup('Ст. пл. Ал.Невского2 и переход Ал.Невского1-2 закрыт',\n",
       "           [Span(23, 45, '#aec7e8')])"
      ]
     },
     "metadata": {},
     "output_type": "display_data"
    },
    {
     "data": {
      "text/html": [
       "<div class=\"tex2jax_ignore\" style=\"line-height: 1.6em; white-space: pre-wrap\">и <span style=\"border-bottom: 2px solid #aec7e8; padding-bottom: 1px\">переходы с Гостиного двора</span> открыты</div>"
      ],
      "text/plain": [
       "LineMarkup('и переходы с Гостиного двора открыты', [Span(2, 28, '#aec7e8')])"
      ]
     },
     "metadata": {},
     "output_type": "display_data"
    },
    {
     "data": {
      "text/html": [
       "<div class=\"tex2jax_ignore\" style=\"line-height: 1.6em; white-space: pre-wrap\"><span style=\"border-bottom: 2px solid #aec7e8; padding-bottom: 1px\">переход Влад.- Достоевская</span> закрыты</div>"
      ],
      "text/plain": [
       "LineMarkup('переход Влад.- Достоевская закрыты', [Span(0, 26, '#aec7e8')])"
      ]
     },
     "metadata": {},
     "output_type": "display_data"
    },
    {
     "data": {
      "text/html": [
       "<div class=\"tex2jax_ignore\" style=\"line-height: 1.6em; white-space: pre-wrap\"><span style=\"border-bottom: 2px solid #aec7e8; padding-bottom: 1px\">переходы на Сенную пл. и Спасскую</span> закрыты</div>"
      ],
      "text/plain": [
       "LineMarkup('переходы на Сенную пл. и Спасскую закрыты',\n",
       "           [Span(0, 33, '#aec7e8')])"
      ]
     },
     "metadata": {},
     "output_type": "display_data"
    },
    {
     "data": {
      "text/html": [
       "<div class=\"tex2jax_ignore\" style=\"line-height: 1.6em; white-space: pre-wrap\"><span style=\"border-bottom: 2px solid #aec7e8; padding-bottom: 1px\">переход Тн1- Тн2</span> открыт</div>"
      ],
      "text/plain": [
       "LineMarkup('переход Тн1- Тн2 открыт', [Span(0, 16, '#aec7e8')])"
      ]
     },
     "metadata": {},
     "output_type": "display_data"
    },
    {
     "data": {
      "text/html": [
       "<div class=\"tex2jax_ignore\" style=\"line-height: 1.6em; white-space: pre-wrap\"><span style=\"border-bottom: 2px solid #aec7e8; padding-bottom: 1px\">переход между ст. Сенная площадь и Спасская</span> закрыт</div>"
      ],
      "text/plain": [
       "LineMarkup('переход между ст. Сенная площадь и Спасская закрыт',\n",
       "           [Span(0, 43, '#aec7e8')])"
      ]
     },
     "metadata": {},
     "output_type": "display_data"
    },
    {
     "data": {
      "text/html": [
       "<div class=\"tex2jax_ignore\" style=\"line-height: 1.6em; white-space: pre-wrap\"><span style=\"border-bottom: 2px solid #aec7e8; padding-bottom: 1px\">переход между ст. Технологический институт 1 и 2</span> открыт</div>"
      ],
      "text/plain": [
       "LineMarkup('переход между ст. Технологический институт 1 и 2 открыт',\n",
       "           [Span(0, 48, '#aec7e8')])"
      ]
     },
     "metadata": {},
     "output_type": "display_data"
    }
   ],
   "source": [
    "from notebook.transfer import TRANSFER\n",
    "\n",
    "test(TRANSFER,\n",
    "     ['переход Гостиный двор- Невский пр. открыт', 'переход Гостиный двор- Невский пр.'],\n",
    "     ['Переход со ст. Достоевская на ст.Владимирская закрыт', 'Переход со ст. Достоевская на ст.Владимирская'],\n",
    "     ['переход на верхнюю платформу закрыт', 'переход на верхнюю платформу'],\n",
    "     ['Ст. пл. Ал.Невского2 и переход Ал.Невского1-2 закрыт', 'переход Ал.Невского1-2'],\n",
    "     ['и переходы с Гостиного двора открыты', 'переходы с Гостиного двора'],\n",
    "     ['переход Влад.- Достоевская закрыты', 'переход Влад.- Достоевская'],\n",
    "     ['переходы на Сенную пл. и Спасскую закрыты', 'переходы на Сенную пл. и Спасскую'],\n",
    "     ['переход Тн1- Тн2 открыт', 'переход Тн1- Тн2'],\n",
    "     ['переход между ст. Сенная площадь и Спасская закрыт', 'переход между ст. Сенная площадь и Спасская'],\n",
    "     ['переход между ст. Технологический институт 1 и 2 открыт', 'переход между ст. Технологический институт 1 и 2'],\n",
    "    facts=False)\n",
    "\n",
    "# test_samples([LIST_OF_STATIONS.named('2')], texts, fact=True)"
   ]
  },
  {
   "cell_type": "code",
   "execution_count": 48,
   "metadata": {},
   "outputs": [
    {
     "data": {
      "text/html": [
       "<div class=\"tex2jax_ignore\" style=\"line-height: 1.6em; white-space: pre-wrap\">в 14 - 09 <span style=\"border-bottom: 2px solid #ff9896; padding-bottom: 1px\">ст . спасская и переходы на ст . садовая и ст . сенная площадь</span> закрыты из - за бесхозного предмета</div>"
      ],
      "text/plain": [
       "LineMarkup('в 14 - 09 ст . спасская и переходы на ст . садовая и ст . сенная площадь закрыты из - за бесхозного предмета',\n",
       "           [Span(10, 72, '#ff9896')])"
      ]
     },
     "metadata": {},
     "output_type": "display_data"
    },
    {
     "data": {
      "text/plain": [
       "StationAndTransfer(station=Station(name='Спасская',\n",
       "                                   num=[]),\n",
       "                   transfer=[Station(name='Садовая',\n",
       "                                     num=[]), Station(name='Сенная площадь',\n",
       "                                     num=[])])"
      ]
     },
     "metadata": {},
     "output_type": "display_data"
    },
    {
     "data": {
      "text/html": [
       "<div class=\"tex2jax_ignore\" style=\"line-height: 1.6em; white-space: pre-wrap\"><span style=\"border-bottom: 2px solid #ff9896; padding-bottom: 1px\">ст . сенная площадь и переходы на ст . садовая и ст . спасская</span> закрыты из - за ананомного сообщения</div>"
      ],
      "text/plain": [
       "LineMarkup('ст . сенная площадь и переходы на ст . садовая и ст . спасская закрыты из - за ананомного сообщения',\n",
       "           [Span(0, 62, '#ff9896')])"
      ]
     },
     "metadata": {},
     "output_type": "display_data"
    },
    {
     "data": {
      "text/plain": [
       "StationAndTransfer(station=Station(name='Сенная площадь',\n",
       "                                   num=[]),\n",
       "                   transfer=[Station(name='Садовая',\n",
       "                                     num=[]), Station(name='Спасская',\n",
       "                                     num=[])])"
      ]
     },
     "metadata": {},
     "output_type": "display_data"
    },
    {
     "data": {
      "text/html": [
       "<div class=\"tex2jax_ignore\" style=\"line-height: 1.6em; white-space: pre-wrap\">Ст. <span style=\"border-bottom: 2px solid #ff9896; padding-bottom: 1px\">пл. Ал.Невского2 и переход Ал.Невского1-2</span> закрыт</div>"
      ],
      "text/plain": [
       "LineMarkup('Ст. пл. Ал.Невского2 и переход Ал.Невского1-2 закрыт',\n",
       "           [Span(4, 45, '#ff9896')])"
      ]
     },
     "metadata": {},
     "output_type": "display_data"
    },
    {
     "data": {
      "text/plain": [
       "StationAndTransfer(station=Station(name='Площадь Александра Невского',\n",
       "                                   num=[2]),\n",
       "                   transfer=[Station(name='Площадь Александра Невского',\n",
       "                                     num=[1, 2])])"
      ]
     },
     "metadata": {},
     "output_type": "display_data"
    },
    {
     "data": {
      "text/html": [
       "<div class=\"tex2jax_ignore\" style=\"line-height: 1.6em; white-space: pre-wrap\">в 18 - 33 <span style=\"border-bottom: 2px solid #aec7e8; padding-bottom: 1px\">ст . крестовский остров</span> закрыта на вход . все эск . работают на подъём . футбол</div>"
      ],
      "text/plain": [
       "LineMarkup('в 18 - 33 ст . крестовский остров закрыта на вход . все эск . работают на подъём . футбол',\n",
       "           [Span(10, 33, '')])"
      ]
     },
     "metadata": {},
     "output_type": "display_data"
    },
    {
     "data": {
      "text/html": [
       "<div class=\"tex2jax_ignore\" style=\"line-height: 1.6em; white-space: pre-wrap\">в 14 - 48 <span style=\"border-bottom: 2px solid #aec7e8; padding-bottom: 1px\">ст . гражданский пр .</span> закрыта , в вестибюле обнаружен бесхозный предмет</div>"
      ],
      "text/plain": [
       "LineMarkup('в 14 - 48 ст . гражданский пр . закрыта , в вестибюле обнаружен бесхозный предмет',\n",
       "           [Span(10, 31, '')])"
      ]
     },
     "metadata": {},
     "output_type": "display_data"
    },
    {
     "data": {
      "text/html": [
       "<div class=\"tex2jax_ignore\" style=\"line-height: 1.6em; white-space: pre-wrap\">в 20 - 19 <span style=\"border-bottom: 2px solid #aec7e8; padding-bottom: 1px\">ст . фрунзенская</span> открыта , опасных предметов не обнаружено</div>"
      ],
      "text/plain": [
       "LineMarkup('в 20 - 19 ст . фрунзенская открыта , опасных предметов не обнаружено',\n",
       "           [Span(10, 26, '')])"
      ]
     },
     "metadata": {},
     "output_type": "display_data"
    },
    {
     "data": {
      "text/html": [
       "<div class=\"tex2jax_ignore\" style=\"line-height: 1.6em; white-space: pre-wrap\">в 09 - 38 вестибюль <span style=\"border-bottom: 2px solid #aec7e8; padding-bottom: 1px\">ст . гостиный двор</span> открыт , опасных предметов не обнаружено</div>"
      ],
      "text/plain": [
       "LineMarkup('в 09 - 38 вестибюль ст . гостиный двор открыт , опасных предметов не обнаружено',\n",
       "           [Span(20, 38, '')])"
      ]
     },
     "metadata": {},
     "output_type": "display_data"
    },
    {
     "data": {
      "text/html": [
       "<div class=\"tex2jax_ignore\" style=\"line-height: 1.6em; white-space: pre-wrap\">в 16 - 25 <span style=\"border-bottom: 2px solid #aec7e8; padding-bottom: 1px\">ст . крестовский остров</span> открыта</div>"
      ],
      "text/plain": [
       "LineMarkup('в 16 - 25 ст . крестовский остров открыта', [Span(10, 33, '')])"
      ]
     },
     "metadata": {},
     "output_type": "display_data"
    },
    {
     "data": {
      "text/html": [
       "<div class=\"tex2jax_ignore\" style=\"line-height: 1.6em; white-space: pre-wrap\">в 10 - 09 <span style=\"border-bottom: 2px solid #aec7e8; padding-bottom: 1px\">ст . электросила</span> закрыта на вход и выход . на платформе бесхозный предмет</div>"
      ],
      "text/plain": [
       "LineMarkup('в 10 - 09 ст . электросила закрыта на вход и выход . на платформе бесхозный предмет',\n",
       "           [Span(10, 26, '')])"
      ]
     },
     "metadata": {},
     "output_type": "display_data"
    },
    {
     "data": {
      "text/html": [
       "<div class=\"tex2jax_ignore\" style=\"line-height: 1.6em; white-space: pre-wrap\">движение открыто по линии 3 , 4 , 5 полностью . \n",
       " по линии 2 есть движение от <span style=\"border-bottom: 2px solid #aec7e8; padding-bottom: 1px\">купчино</span> - <span style=\"border-bottom: 2px solid #aec7e8; padding-bottom: 1px\">московской</span> . от <span style=\"border-bottom: 2px solid #aec7e8; padding-bottom: 1px\">петроградской</span> - <span style=\"border-bottom: 2px solid #aec7e8; padding-bottom: 1px\">парнас</span></div>"
      ],
      "text/plain": [
       "LineMarkup('движение открыто по линии 3 , 4 , 5 полностью . \\n по линии 2 есть движение от купчино - московской . от петроградской - парнас',\n",
       "           [Span(78, 85, ''),\n",
       "            Span(88, 98, ''),\n",
       "            Span(104, 117, ''),\n",
       "            Span(120, 126, '')])"
      ]
     },
     "metadata": {},
     "output_type": "display_data"
    },
    {
     "data": {
      "text/html": [
       "<div class=\"tex2jax_ignore\" style=\"line-height: 1.6em; white-space: pre-wrap\">гку организатор перевозок рекомендует добираться наземным транспортом : \n",
       "\n",
       " ↔ ️ <span style=\"border-bottom: 2px solid #aec7e8; padding-bottom: 1px\">ст . м . маяковская</span> \n",
       " ▫ ️ автобус : 3 , 7 , 22 , 24 , 27 , 181 , 191 ; \n",
       " ▫ ️ троллейбус : 1 , 5 , 7 , 10 , 11 , 22 . \n",
       "\n",
       " ↔ ️ <span style=\"border-bottom: 2px solid #aec7e8; padding-bottom: 1px\">ст . м . адмиралтейская</span> \n",
       " ▫ ️ автобус : 7 , 24 , 191 ; \n",
       " ▫ ️ троллейбус : 5 , 22 . \n",
       "\n",
       " ↔ ️ <span style=\"border-bottom: 2px solid #aec7e8; padding-bottom: 1px\">ст . м . сенная</span> \n",
       " ▫ ️ автобус : 49 , 181 ; \n",
       " ▫ ️ трамвай 3</div>"
      ],
      "text/plain": [
       "LineMarkup('гку организатор перевозок рекомендует добираться наземным транспортом : \\n\\n ↔ ️ ст . м . маяковская \\n ▫ ️ автобус : 3 , 7 , 22 , 24 , 27 , 181 , 191 ; \\n ▫ ️ троллейбус : 1 , 5 , 7 , 10 , 11 , 22 . \\n\\n ↔ ️ ст . м . адмиралтейская \\n ▫ ️ автобус : 7 , 24 , 191 ; \\n ▫ ️ троллейбус : 5 , 22 . \\n\\n ↔ ️ ст . м . сенная \\n ▫ ️ автобус : 49 , 181 ; \\n ▫ ️ трамвай 3',\n",
       "           [Span(79, 98, ''), Span(203, 226, ''), Span(293, 308, '')])"
      ]
     },
     "metadata": {},
     "output_type": "display_data"
    },
    {
     "data": {
      "text/html": [
       "<div class=\"tex2jax_ignore\" style=\"line-height: 1.6em; white-space: pre-wrap\"><span style=\"border-bottom: 2px solid #aec7e8; padding-bottom: 1px\">ст . чернышевская</span> бесхозный предмет на платформе . в 23 - 22 станция закрыта</div>"
      ],
      "text/plain": [
       "LineMarkup('ст . чернышевская бесхозный предмет на платформе . в 23 - 22 станция закрыта',\n",
       "           [Span(0, 17, '')])"
      ]
     },
     "metadata": {},
     "output_type": "display_data"
    },
    {
     "data": {
      "text/html": [
       "<div class=\"tex2jax_ignore\" style=\"line-height: 1.6em; white-space: pre-wrap\">в 21 - 00 <span style=\"border-bottom: 2px solid #aec7e8; padding-bottom: 1px\">ст . пионерская</span> закрыта на вход ( на выход работает ) в вестибюле бесхозный предмет ( папка ) . вызваны кинологи и группа разминирования</div>"
      ],
      "text/plain": [
       "LineMarkup('в 21 - 00 ст . пионерская закрыта на вход ( на выход работает ) в вестибюле бесхозный предмет ( папка ) . вызваны кинологи и группа разминирования',\n",
       "           [Span(10, 25, '')])"
      ]
     },
     "metadata": {},
     "output_type": "display_data"
    },
    {
     "data": {
      "text/html": [
       "<div class=\"tex2jax_ignore\" style=\"line-height: 1.6em; white-space: pre-wrap\">в 18 - 37 <span style=\"border-bottom: 2px solid #aec7e8; padding-bottom: 1px\">ст . достоевская и </span><span style=\"border-bottom: 2px solid #aec7e8; padding-bottom: 1px\"><span style=\"border-bottom: 2px solid #98df8a; padding-bottom: 4px\">переход на ст . владимирская</span></span> закрыты из - за бесхозного предмета</div>"
      ],
      "text/plain": [
       "LineMarkup('в 18 - 37 ст . достоевская и переход на ст . владимирская закрыты из - за бесхозного предмета',\n",
       "           [Span(10, 57, ''), Span(29, 57, '1')])"
      ]
     },
     "metadata": {},
     "output_type": "display_data"
    },
    {
     "data": {
      "text/html": [
       "<div class=\"tex2jax_ignore\" style=\"line-height: 1.6em; white-space: pre-wrap\">08 - 34 <span style=\"border-bottom: 2px solid #aec7e8; padding-bottom: 1px\">станция чернышевская</span> открыта . опасных предметов не обнаружено</div>"
      ],
      "text/plain": [
       "LineMarkup('08 - 34 станция чернышевская открыта . опасных предметов не обнаружено',\n",
       "           [Span(8, 28, '')])"
      ]
     },
     "metadata": {},
     "output_type": "display_data"
    },
    {
     "data": {
      "text/html": [
       "<div class=\"tex2jax_ignore\" style=\"line-height: 1.6em; white-space: pre-wrap\">в 16 - 15 <span style=\"border-bottom: 2px solid #aec7e8; padding-bottom: 1px\">ст . гражданский пр .</span> закрыта в связи с обнаружением бесхозного предмета на платформе</div>"
      ],
      "text/plain": [
       "LineMarkup('в 16 - 15 ст . гражданский пр . закрыта в связи с обнаружением бесхозного предмета на платформе',\n",
       "           [Span(10, 31, '')])"
      ]
     },
     "metadata": {},
     "output_type": "display_data"
    },
    {
     "data": {
      "text/html": [
       "<div class=\"tex2jax_ignore\" style=\"line-height: 1.6em; white-space: pre-wrap\">в 22 - 38 <span style=\"border-bottom: 2px solid #aec7e8; padding-bottom: 1px\">ст . технологический ин - т - 1 и </span><span style=\"border-bottom: 2px solid #aec7e8; padding-bottom: 1px\"><span style=\"border-bottom: 2px solid #98df8a; padding-bottom: 4px\">переход</span></span> открыты . в сумке личные вещи</div>"
      ],
      "text/plain": [
       "LineMarkup('в 22 - 38 ст . технологический ин - т - 1 и переход открыты . в сумке личные вещи',\n",
       "           [Span(10, 51, ''), Span(44, 51, '1')])"
      ]
     },
     "metadata": {},
     "output_type": "display_data"
    },
    {
     "data": {
      "text/html": [
       "<div class=\"tex2jax_ignore\" style=\"line-height: 1.6em; white-space: pre-wrap\">в 15 - 41 закрыты <span style=\"border-bottom: 2px solid #aec7e8; padding-bottom: 1px\">ст . площадь восстания и </span><span style=\"border-bottom: 2px solid #aec7e8; padding-bottom: 1px\"><span style=\"border-bottom: 2px solid #98df8a; padding-bottom: 4px\">переход на ст . маяковская</span></span> из - за бесхозного предмета</div>"
      ],
      "text/plain": [
       "LineMarkup('в 15 - 41 закрыты ст . площадь восстания и переход на ст . маяковская из - за бесхозного предмета',\n",
       "           [Span(18, 69, ''), Span(43, 69, '1')])"
      ]
     },
     "metadata": {},
     "output_type": "display_data"
    },
    {
     "data": {
      "text/html": [
       "<div class=\"tex2jax_ignore\" style=\"line-height: 1.6em; white-space: pre-wrap\">гку организатор перевозок рекомендует добираться наземным транспортом : \n",
       "\n",
       " ↔ ️ <span style=\"border-bottom: 2px solid #aec7e8; padding-bottom: 1px\">ст . м . василеостровская</span> \n",
       " ▫ ️ автобус : 1 , 6 , 41 , 42 , 47 , 100 , 128 , 151 ; \n",
       " ▫ ️ трамвай : 6 , 40 . \n",
       "\n",
       " ↔ ️ <span style=\"border-bottom: 2px solid #aec7e8; padding-bottom: 1px\">ст . м . спортивная</span> \n",
       " ▫ ️ автобус : 1 , 47 , 128 ; \n",
       " ▫ ️ трамвай : 6 , 40</div>"
      ],
      "text/plain": [
       "LineMarkup('гку организатор перевозок рекомендует добираться наземным транспортом : \\n\\n ↔ ️ ст . м . василеостровская \\n ▫ ️ автобус : 1 , 6 , 41 , 42 , 47 , 100 , 128 , 151 ; \\n ▫ ️ трамвай : 6 , 40 . \\n\\n ↔ ️ ст . м . спортивная \\n ▫ ️ автобус : 1 , 47 , 128 ; \\n ▫ ️ трамвай : 6 , 40',\n",
       "           [Span(79, 104, ''), Span(194, 213, '')])"
      ]
     },
     "metadata": {},
     "output_type": "display_data"
    },
    {
     "data": {
      "text/html": [
       "<div class=\"tex2jax_ignore\" style=\"line-height: 1.6em; white-space: pre-wrap\">в 18 - 28 <span style=\"border-bottom: 2px solid #aec7e8; padding-bottom: 1px\">ст . удельная</span> открыта . взрывоопасных предметов не обнаружено</div>"
      ],
      "text/plain": [
       "LineMarkup('в 18 - 28 ст . удельная открыта . взрывоопасных предметов не обнаружено',\n",
       "           [Span(10, 23, '')])"
      ]
     },
     "metadata": {},
     "output_type": "display_data"
    },
    {
     "data": {
      "text/html": [
       "<div class=\"tex2jax_ignore\" style=\"line-height: 1.6em; white-space: pre-wrap\">в 15 - 07 <span style=\"border-bottom: 2px solid #aec7e8; padding-bottom: 1px\">ст . академическая</span> закрыта на вход из - за бесхозного предмета</div>"
      ],
      "text/plain": [
       "LineMarkup('в 15 - 07 ст . академическая закрыта на вход из - за бесхозного предмета',\n",
       "           [Span(10, 28, '')])"
      ]
     },
     "metadata": {},
     "output_type": "display_data"
    },
    {
     "data": {
      "text/html": [
       "<div class=\"tex2jax_ignore\" style=\"line-height: 1.6em; white-space: pre-wrap\">в 20 - 03 <span style=\"border-bottom: 2px solid #aec7e8; padding-bottom: 1px\">ст . проспект ветеранов</span> открыта . опасных предметов не обнаружено</div>"
      ],
      "text/plain": [
       "LineMarkup('в 20 - 03 ст . проспект ветеранов открыта . опасных предметов не обнаружено',\n",
       "           [Span(10, 33, '')])"
      ]
     },
     "metadata": {},
     "output_type": "display_data"
    },
    {
     "data": {
      "text/html": [
       "<div class=\"tex2jax_ignore\" style=\"line-height: 1.6em; white-space: pre-wrap\"><span style=\"border-bottom: 2px solid #aec7e8; padding-bottom: 1px\">ст . технологический ин - т 1</span> открыли для пассажиров</div>"
      ],
      "text/plain": [
       "LineMarkup('ст . технологический ин - т 1 открыли для пассажиров',\n",
       "           [Span(0, 29, '')])"
      ]
     },
     "metadata": {},
     "output_type": "display_data"
    }
   ],
   "source": [
    "from notebook.transfer import STATION_AND_TRANSFER, TRANSFER, STATION\n",
    "\n",
    "test(STATION_AND_TRANSFER,\n",
    "    ['в 14 - 09 ст . спасская и переходы на ст . садовая и ст . сенная площадь закрыты из - за бесхозного предмета'],\n",
    "    ['ст . сенная площадь и переходы на ст . садовая и ст . спасская закрыты из - за ананомного сообщения'],\n",
    "    ['Ст. пл. Ал.Невского2 и переход Ал.Невского1-2 закрыт'],\n",
    "    facts=True)\n",
    "\n",
    "test_samples([STATION_AND_TRANSFER.named(''), TRANSFER.named('1')], texts, markup=LineMarkup)"
   ]
  },
  {
   "cell_type": "code",
   "execution_count": 10,
   "metadata": {},
   "outputs": [],
   "source": [
    "%run structure.py\n",
    "from datetime import datetime as dt\n",
    "import pandas as pd\n",
    "\n",
    "x = [_.date for _ in History.load()]\n",
    "d = pd.DataFrame({ \"date\": pd.to_datetime(x, unit='s') })\n",
    "d['day'] = d['date'].map(lambda d: d.toordinal())\n",
    "\n",
    "kek = d.day.value_counts(); kek\n",
    "e = kek.reset_index(name='freq').set_index(kek.index.map(dt.fromordinal))\n",
    "e.freq = e.freq.map(lambda x: x // 2)\n",
    "# (e / 734).freq.sum()\n",
    "# e"
   ]
  }
 ],
 "metadata": {
  "kernelspec": {
   "display_name": "Python 3",
   "language": "python",
   "name": "python3"
  },
  "language_info": {
   "codemirror_mode": {
    "name": "ipython",
    "version": 3
   },
   "file_extension": ".py",
   "mimetype": "text/x-python",
   "name": "python",
   "nbconvert_exporter": "python",
   "pygments_lexer": "ipython3",
   "version": "3.7.1"
  }
 },
 "nbformat": 4,
 "nbformat_minor": 2
}
