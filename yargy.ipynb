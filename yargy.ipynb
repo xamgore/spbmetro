{
 "cells": [
  {
   "cell_type": "markdown",
   "metadata": {},
   "source": [
    "# Data"
   ]
  },
  {
   "cell_type": "code",
   "execution_count": 1,
   "metadata": {
    "code_folding": []
   },
   "outputs": [
    {
     "name": "stdout",
     "output_type": "stream",
     "text": [
      "/home/mi/work/spbmetro\n"
     ]
    }
   ],
   "source": [
    "%cd /home/mi/au/spbmetro\n",
    "\n",
    "%run -i notebook/common.py\n",
    "\n",
    "from Levenshtein import distance\n",
    "from ipyannotate import annotate\n",
    "from ipyannotate.buttons import (ValueButton as Button, BackButton, NextButton)\n",
    "from yargy.tokenizer import MorphTokenizer\n",
    "from yargy.predicates import gram, in_, type, normalized, eq, custom\n",
    "from yargy.pipelines import morph_pipeline\n",
    "from yargy.relations import gnc_relation, main\n",
    "from yargy import or_, and_, not_, rule, Parser\n",
    "from yargy import interpretation as interp\n",
    "from yargy.interpretation import fact, attribute\n",
    "from yargy import interpretation as interp\n",
    "import yargy\n",
    "import re\n",
    "\n",
    "\n",
    "%run structure.py\n",
    "%run preprocess.py\n",
    "\n",
    "def preprocess(text):\n",
    "    return text.replace('«', '').replace('»', '')\n",
    "\n",
    "history = History.load()\n",
    "texts = [preprocess(_.text) for _ in history.messages.values()]\n",
    "words = {w.lower() for _ in Subway.load().stations.keys() for w in _.split() if not w.isdigit()}\n",
    "\n",
    "texts = [fix_text(list(TOKENIZER(_)), words) for _ in texts]"
   ]
  },
  {
   "cell_type": "markdown",
   "metadata": {},
   "source": [
    "<br>\n",
    "<br>\n",
    "<br>\n",
    "<br>\n",
    "<br>\n",
    "<br>"
   ]
  },
  {
   "cell_type": "code",
   "execution_count": 2,
   "metadata": {},
   "outputs": [],
   "source": [
    "% run -i notebook/helper.py\n",
    "\n",
    "def check(rule, tree=False, facts=False):\n",
    "    return annotate(texts, buttons=[\n",
    "        Button('ok', color='green', shortcut='1'),\n",
    "        Button('err', color='red', shortcut='2'),\n",
    "        BackButton(shortcut='j'), NextButton(shortcut='k'),\n",
    "    ], display=lambda text: test(rule, text, tree=tree, facts=facts))"
   ]
  },
  {
   "cell_type": "code",
   "execution_count": 3,
   "metadata": {},
   "outputs": [
    {
     "data": {
      "text/plain": [
       "1917"
      ]
     },
     "execution_count": 3,
     "metadata": {},
     "output_type": "execute_result"
    }
   ],
   "source": [
    "len(texts)"
   ]
  },
  {
   "cell_type": "markdown",
   "metadata": {},
   "source": [
    "# Grammar"
   ]
  },
  {
   "cell_type": "code",
   "execution_count": 4,
   "metadata": {
    "scrolled": true
   },
   "outputs": [
    {
     "data": {
      "text/plain": [
       "['ин', '-', 'т']"
      ]
     },
     "execution_count": 4,
     "metadata": {},
     "output_type": "execute_result"
    }
   ],
   "source": [
    "[t.value for t in TOKENIZER(' ин-т ')]"
   ]
  },
  {
   "cell_type": "markdown",
   "metadata": {},
   "source": [
    "## Time"
   ]
  },
  {
   "cell_type": "code",
   "execution_count": 5,
   "metadata": {
    "code_folding": [
     10
    ],
    "scrolled": false
   },
   "outputs": [
    {
     "name": "stdout",
     "output_type": "stream",
     "text": [
      "['notebook/time.py']\n"
     ]
    },
    {
     "data": {
      "text/html": [
       "<div class=\"tex2jax_ignore\" style=\"line-height: 1.6em; white-space: pre-wrap\"><span style=\"border-bottom: 2px solid #aec7e8; padding-bottom: 1px\">в  12:31</span> но не в 33:33 и не в 09:90</div>"
      ],
      "text/plain": [
       "LineMarkup('в  12:31 но не в 33:33 и не в 09:90', [Span(0, 8, '#aec7e8')])"
      ]
     },
     "metadata": {},
     "output_type": "display_data"
    },
    {
     "data": {
      "text/html": [
       "<div class=\"tex2jax_ignore\" style=\"line-height: 1.6em; white-space: pre-wrap\">что с  <span style=\"border-bottom: 2px solid #aec7e8; padding-bottom: 1px\">1:09</span>  по  <span style=\"border-bottom: 2px solid #aec7e8; padding-bottom: 1px\">8:09</span>  с  <span style=\"border-bottom: 2px solid #aec7e8; padding-bottom: 1px\">8:20</span>  до  <span style=\"border-bottom: 2px solid #aec7e8; padding-bottom: 1px\">9:00  ч</span> вход</div>"
      ],
      "text/plain": [
       "LineMarkup('что с  1:09  по  8:09  с  8:20  до  9:00  ч вход',\n",
       "           [Span(7, 11, '#aec7e8'),\n",
       "            Span(17, 21, '#aec7e8'),\n",
       "            Span(26, 30, '#aec7e8'),\n",
       "            Span(36, 43, '#aec7e8')])"
      ]
     },
     "metadata": {},
     "output_type": "display_data"
    },
    {
     "data": {
      "text/html": [
       "<div class=\"tex2jax_ignore\" style=\"line-height: 1.6em; white-space: pre-wrap\">что  <span style=\"border-bottom: 2px solid #ff9896; padding-bottom: 1px\">10:02</span> .2018 и <span style=\"border-bottom: 2px solid #ff9896; padding-bottom: 1px\">10.02</span>.2018 станция закрыта</div>"
      ],
      "text/plain": [
       "LineMarkup('что  10:02 .2018 и 10.02.2018 станция закрыта',\n",
       "           [Span(5, 10, '#ff9896'), Span(19, 24, '#ff9896')])"
      ]
     },
     "metadata": {},
     "output_type": "display_data"
    },
    {
     "data": {
      "text/html": [
       "<div class=\"tex2jax_ignore\" style=\"line-height: 1.6em; white-space: pre-wrap\">с<span style=\"border-bottom: 2px solid #aec7e8; padding-bottom: 1px\">16ч 04 мин</span> до конца рабочего дня станция закрыта</div>"
      ],
      "text/plain": [
       "LineMarkup('с16ч 04 мин до конца рабочего дня станция закрыта',\n",
       "           [Span(1, 11, '#aec7e8')])"
      ]
     },
     "metadata": {},
     "output_type": "display_data"
    },
    {
     "data": {
      "text/html": [
       "<div class=\"tex2jax_ignore\" style=\"line-height: 1.6em; white-space: pre-wrap\"><span style=\"border-bottom: 2px solid #aec7e8; padding-bottom: 1px\">в 17 ч02 мин</span> александра невского 1-2 закрыт <span style=\"border-bottom: 2px solid #aec7e8; padding-bottom: 1px\">в  18.40</span> и <span style=\"border-bottom: 2px solid #aec7e8; padding-bottom: 1px\">в 18- 40</span> </div>"
      ],
      "text/plain": [
       "LineMarkup('в 17 ч02 мин александра невского 1-2 закрыт в  18.40 и в 18- 40 ',\n",
       "           [Span(0, 12, '#aec7e8'),\n",
       "            Span(44, 52, '#aec7e8'),\n",
       "            Span(55, 63, '#aec7e8')])"
      ]
     },
     "metadata": {},
     "output_type": "display_data"
    },
    {
     "data": {
      "text/html": [
       "<div class=\"tex2jax_ignore\" style=\"line-height: 1.6em; white-space: pre-wrap\">баллончик <span style=\"border-bottom: 2px solid #aec7e8; padding-bottom: 1px\">в  18:10 ч.</span> нарушитель, с <span style=\"border-bottom: 2px solid #aec7e8; padding-bottom: 1px\">10-27 мин</span></div>"
      ],
      "text/plain": [
       "LineMarkup('баллончик в  18:10 ч. нарушитель, с 10-27 мин',\n",
       "           [Span(10, 21, '#aec7e8'), Span(36, 45, '#aec7e8')])"
      ]
     },
     "metadata": {},
     "output_type": "display_data"
    },
    {
     "data": {
      "text/html": [
       "<div class=\"tex2jax_ignore\" style=\"line-height: 1.6em; white-space: pre-wrap\">пункт <span style=\"border-bottom: 2px solid #ff9896; padding-bottom: 1px\">2. </span><span style=\"border-bottom: 2px solid #ff9896; padding-bottom: 1px\"><span style=\"border-bottom: 2px solid #ccc; padding-bottom: 4px\">16</span></span><span style=\"border-bottom: 2px solid #ccc; padding-bottom: 4px\">-40</span> закрыта платформа</div>"
      ],
      "text/plain": [
       "LineMarkup('пункт 2. 16-40 закрыта платформа',\n",
       "           [Span(6, 11, '#ff9896'), Span(9, 14, '#ccc')])"
      ]
     },
     "metadata": {},
     "output_type": "display_data"
    }
   ],
   "source": [
    "%run notebook/time.py\n",
    "\n",
    "test(TIME,\n",
    "     ['в  12:31 но не в 33:33 и не в 09:90',               'в  12:31'],\n",
    "     ['что с  1:09  по  8:09  с  8:20  до  9:00  ч вход',  '1:09', '8:09', '8:20', '9:00  ч'],\n",
    "     ['что  10:02 .2018 и 10.02.2018 станция закрыта'],\n",
    "     ['с16ч 04 мин до конца рабочего дня станция закрыта', '16ч 04 мин'],\n",
    "     ['в 17 ч02 мин александра невского 1-2 закрыт в  18.40 и в 18- 40 ', \n",
    "                                                           'в 17 ч02 мин', 'в  18.40', 'в 18- 40'],\n",
    "     ['баллончик в  18:10 ч. нарушитель, с 10-27 мин',     'в  18:10 ч.', '10-27 мин'],\n",
    "     ['пункт 2. 16-40 закрыта платформа',                  '16-40'],\n",
    "     facts=False, tree=False\n",
    "     )"
   ]
  },
  {
   "cell_type": "code",
   "execution_count": 6,
   "metadata": {},
   "outputs": [],
   "source": [
    "# annotate_time = check(TIME, facts=True);\n",
    "# annotate_time\n",
    "# print('failed:', len([_ for _ in annotate_time.tasks if _.value != 'ok']), '/', len(annotate_time.tasks))"
   ]
  },
  {
   "cell_type": "markdown",
   "metadata": {},
   "source": [
    "## Duration"
   ]
  },
  {
   "cell_type": "code",
   "execution_count": 7,
   "metadata": {
    "code_folding": [
     12
    ],
    "scrolled": true
   },
   "outputs": [
    {
     "data": {
      "text/html": [
       "<div class=\"tex2jax_ignore\" style=\"line-height: 1.6em; white-space: pre-wrap\"><span style=\"border-bottom: 2px solid #aec7e8; padding-bottom: 1px\">с  12:31</span> но не с 33:33 до 09:90 а <span style=\"border-bottom: 2px solid #aec7e8; padding-bottom: 1px\">до 09:30</span></div>"
      ],
      "text/plain": [
       "LineMarkup('с  12:31 но не с 33:33 до 09:90 а до 09:30',\n",
       "           [Span(0, 8, '#aec7e8'), Span(34, 42, '#aec7e8')])"
      ]
     },
     "metadata": {},
     "output_type": "display_data"
    },
    {
     "data": {
      "text/html": [
       "<div class=\"tex2jax_ignore\" style=\"line-height: 1.6em; white-space: pre-wrap\">что <span style=\"border-bottom: 2px solid #aec7e8; padding-bottom: 1px\">с  1:09  по  8:09</span>  <span style=\"border-bottom: 2px solid #aec7e8; padding-bottom: 1px\">с  8:20  до  9:00  ч</span> вход</div>"
      ],
      "text/plain": [
       "LineMarkup('что с  1:09  по  8:09  с  8:20  до  9:00  ч вход',\n",
       "           [Span(4, 21, '#aec7e8'), Span(23, 43, '#aec7e8')])"
      ]
     },
     "metadata": {},
     "output_type": "display_data"
    },
    {
     "data": {
      "text/html": [
       "<div class=\"tex2jax_ignore\" style=\"line-height: 1.6em; white-space: pre-wrap\">что <span style=\"border-bottom: 2px solid #ff9896; padding-bottom: 1px\">с 10:02</span> .2018 и <span style=\"border-bottom: 2px solid #ff9896; padding-bottom: 1px\">с 10.02</span>.2018 станция закрыта</div>"
      ],
      "text/plain": [
       "LineMarkup('что с 10:02 .2018 и с 10.02.2018 станция закрыта',\n",
       "           [Span(4, 11, '#ff9896'), Span(20, 27, '#ff9896')])"
      ]
     },
     "metadata": {},
     "output_type": "display_data"
    },
    {
     "data": {
      "text/html": [
       "<div class=\"tex2jax_ignore\" style=\"line-height: 1.6em; white-space: pre-wrap\"><span style=\"border-bottom: 2px solid #aec7e8; padding-bottom: 1px\">с16ч 04 мин до конца рабочего дня</span> станция закрыта</div>"
      ],
      "text/plain": [
       "LineMarkup('с16ч 04 мин до конца рабочего дня станция закрыта',\n",
       "           [Span(0, 33, '#aec7e8')])"
      ]
     },
     "metadata": {},
     "output_type": "display_data"
    },
    {
     "data": {
      "text/html": [
       "<div class=\"tex2jax_ignore\" style=\"line-height: 1.6em; white-space: pre-wrap\"><span style=\"border-bottom: 2px solid #aec7e8; padding-bottom: 1px\">с 17 ч02 мин</span> александра невского 1-2 до конечной станции закрыты <span style=\"border-bottom: 2px solid #aec7e8; padding-bottom: 1px\">с 18:40</span> и <span style=\"border-bottom: 2px solid #aec7e8; padding-bottom: 1px\">с 18- 40</span></div>"
      ],
      "text/plain": [
       "LineMarkup('с 17 ч02 мин александра невского 1-2 до конечной станции закрыты с 18:40 и с 18- 40',\n",
       "           [Span(0, 12, '#aec7e8'),\n",
       "            Span(65, 72, '#aec7e8'),\n",
       "            Span(75, 83, '#aec7e8')])"
      ]
     },
     "metadata": {},
     "output_type": "display_data"
    },
    {
     "data": {
      "text/html": [
       "<div class=\"tex2jax_ignore\" style=\"line-height: 1.6em; white-space: pre-wrap\"><span style=\"border-bottom: 2px solid #aec7e8; padding-bottom: 1px\">с  18:10 ч.</span> закрыта, <span style=\"border-bottom: 2px solid #aec7e8; padding-bottom: 1px\">с 10-27 мин</span> тоже</div>"
      ],
      "text/plain": [
       "LineMarkup('с  18:10 ч. закрыта, с 10-27 мин тоже',\n",
       "           [Span(0, 11, '#aec7e8'), Span(21, 32, '#aec7e8')])"
      ]
     },
     "metadata": {},
     "output_type": "display_data"
    },
    {
     "data": {
      "text/html": [
       "<div class=\"tex2jax_ignore\" style=\"line-height: 1.6em; white-space: pre-wrap\"><span style=\"border-bottom: 2px solid #aec7e8; padding-bottom: 1px\">с 17-00 до окончания</span> будет</div>"
      ],
      "text/plain": [
       "LineMarkup('с 17-00 до окончания будет', [Span(0, 20, '#aec7e8')])"
      ]
     },
     "metadata": {},
     "output_type": "display_data"
    }
   ],
   "source": [
    "%run notebook/duration.py\n",
    "\n",
    "test(DURATION,\n",
    "     ['с  12:31 но не с 33:33 до 09:90 а до 09:30', 'с  12:31', 'до 09:30'],\n",
    "     ['что с  1:09  по  8:09  с  8:20  до  9:00  ч вход', 'с  1:09  по  8:09', 'с  8:20  до  9:00  ч'],\n",
    "     ['что с 10:02 .2018 и с 10.02.2018 станция закрыта'],\n",
    "     ['с16ч 04 мин до конца рабочего дня станция закрыта', 'с16ч 04 мин до конца рабочего дня'],\n",
    "     ['с 17 ч02 мин александра невского 1-2 до конечной станции закрыты с 18:40 и с 18- 40',\n",
    "          'с 17 ч02 мин', 'с 18:40', 'с 18- 40'],\n",
    "     ['с  18:10 ч. закрыта, с 10-27 мин тоже', 'с  18:10 ч.', 'с 10-27 мин'],\n",
    "     ['с 17-00 до окончания будет', 'с 17-00 до окончания'],\n",
    "     facts=False, tree=False\n",
    "     )"
   ]
  },
  {
   "cell_type": "markdown",
   "metadata": {},
   "source": [
    "## Literals"
   ]
  },
  {
   "cell_type": "code",
   "execution_count": 8,
   "metadata": {},
   "outputs": [
    {
     "data": {
      "text/html": [
       "<div class=\"tex2jax_ignore\" style=\"line-height: 1.6em; white-space: pre-wrap\">без <span style=\"border-bottom: 2px solid #aec7e8; padding-bottom: 1px\">двух</span>; <span style=\"border-bottom: 2px solid #aec7e8; padding-bottom: 1px\">один</span>, <span style=\"border-bottom: 2px solid #aec7e8; padding-bottom: 1px\">два</span>; <span style=\"border-bottom: 2px solid #aec7e8; padding-bottom: 1px\">первый</span>, <span style=\"border-bottom: 2px solid #aec7e8; padding-bottom: 1px\">второй</span></div>"
      ],
      "text/plain": [
       "LineMarkup('без двух; один, два; первый, второй',\n",
       "           [Span(4, 8, '#aec7e8'),\n",
       "            Span(10, 14, '#aec7e8'),\n",
       "            Span(16, 19, '#aec7e8'),\n",
       "            Span(21, 27, '#aec7e8'),\n",
       "            Span(29, 35, '#aec7e8')])"
      ]
     },
     "metadata": {},
     "output_type": "display_data"
    }
   ],
   "source": [
    "%run -i notebook/literal.py\n",
    "\n",
    "test(\n",
    "    LITERAL,\n",
    "    ['без двух; один, два; первый, второй',\n",
    "        'двух', 'один', 'два', 'первый', 'второй'],\n",
    "    facts=False\n",
    ")"
   ]
  },
  {
   "cell_type": "markdown",
   "metadata": {},
   "source": [
    "## Vestibules"
   ]
  },
  {
   "cell_type": "code",
   "execution_count": 9,
   "metadata": {
    "code_folding": []
   },
   "outputs": [
    {
     "data": {
      "text/html": [
       "<div class=\"tex2jax_ignore\" style=\"line-height: 1.6em; white-space: pre-wrap\"><span style=\"border-bottom: 2px solid #aec7e8; padding-bottom: 1px\">вестибюли 1 и 2</span> ст . ленинский проспект открыт</div>"
      ],
      "text/plain": [
       "LineMarkup('вестибюли 1 и 2 ст . ленинский проспект открыт',\n",
       "           [Span(0, 15, '#aec7e8')])"
      ]
     },
     "metadata": {},
     "output_type": "display_data"
    },
    {
     "data": {
      "text/plain": [
       "[1, 2]"
      ]
     },
     "metadata": {},
     "output_type": "display_data"
    },
    {
     "data": {
      "text/html": [
       "<div class=\"tex2jax_ignore\" style=\"line-height: 1.6em; white-space: pre-wrap\">Временно открыт <span style=\"border-bottom: 2px solid #aec7e8; padding-bottom: 1px\">вестибюль 2</span> ст. Достоевская на вход и выход.</div>"
      ],
      "text/plain": [
       "LineMarkup('Временно открыт вестибюль 2 ст. Достоевская на вход и выход.',\n",
       "           [Span(16, 27, '#aec7e8')])"
      ]
     },
     "metadata": {},
     "output_type": "display_data"
    },
    {
     "data": {
      "text/plain": [
       "[2]"
      ]
     },
     "metadata": {},
     "output_type": "display_data"
    },
    {
     "data": {
      "text/html": [
       "<div class=\"tex2jax_ignore\" style=\"line-height: 1.6em; white-space: pre-wrap\"><span style=\"border-bottom: 2px solid #aec7e8; padding-bottom: 1px\">Второй и первый вестибюли</span> открыты</div>"
      ],
      "text/plain": [
       "LineMarkup('Второй и первый вестибюли открыты', [Span(0, 25, '#aec7e8')])"
      ]
     },
     "metadata": {},
     "output_type": "display_data"
    },
    {
     "data": {
      "text/plain": [
       "[1, 2]"
      ]
     },
     "metadata": {},
     "output_type": "display_data"
    }
   ],
   "source": [
    "%run -i notebook/vestibule.py\n",
    "\n",
    "test(VESTIBULE,\n",
    "    ['вестибюли 1 и 2 ст . ленинский проспект открыт', 'вестибюли 1 и 2'],\n",
    "    ['Временно открыт вестибюль 2 ст. Достоевская на вход и выход.', 'вестибюль 2'],\n",
    "    ['Второй и первый вестибюли открыты', 'Второй и первый вестибюли'],\n",
    "    facts=True)"
   ]
  },
  {
   "cell_type": "markdown",
   "metadata": {},
   "source": [
    "## Station titles"
   ]
  },
  {
   "cell_type": "code",
   "execution_count": 14,
   "metadata": {
    "scrolled": false
   },
   "outputs": [
    {
     "data": {
      "text/html": [
       "<div class=\"tex2jax_ignore\" style=\"line-height: 1.6em; white-space: pre-wrap\"><span style=\"border-bottom: 2px solid #aec7e8; padding-bottom: 1px\">Гостинку</span> и <span style=\"border-bottom: 2px solid #aec7e8; padding-bottom: 1px\">гостиный двор</span> 28 апреля 2018 года ст . <span style=\"border-bottom: 2px solid #aec7e8; padding-bottom: 1px\">приморская</span> закрыта</div>"
      ],
      "text/plain": [
       "LineMarkup('Гостинку и гостиный двор 28 апреля 2018 года ст . приморская закрыта',\n",
       "           [Span(0, 8, '#aec7e8'),\n",
       "            Span(11, 24, '#aec7e8'),\n",
       "            Span(50, 60, '#aec7e8')])"
      ]
     },
     "metadata": {},
     "output_type": "display_data"
    },
    {
     "data": {
      "text/html": [
       "<div class=\"tex2jax_ignore\" style=\"line-height: 1.6em; white-space: pre-wrap\"><span style=\"border-bottom: 2px solid #aec7e8; padding-bottom: 1px\">техн и-т</span> закрыт; переход <span style=\"border-bottom: 2px solid #aec7e8; padding-bottom: 1px\">тн</span> 1 открыт, для <span style=\"border-bottom: 2px solid #ff9896; padding-bottom: 1px\">тех</span> кто не знал </div>"
      ],
      "text/plain": [
       "LineMarkup('техн и-т закрыт; переход тн 1 открыт, для тех кто не знал ',\n",
       "           [Span(0, 8, '#aec7e8'),\n",
       "            Span(25, 27, '#aec7e8'),\n",
       "            Span(42, 45, '#ff9896')])"
      ]
     },
     "metadata": {},
     "output_type": "display_data"
    },
    {
     "data": {
      "text/html": [
       "<div class=\"tex2jax_ignore\" style=\"line-height: 1.6em; white-space: pre-wrap\"> ст . <span style=\"border-bottom: 2px solid #aec7e8; padding-bottom: 1px\">технологический ин - т</span> открыта . опасных предметов не обнаружено</div>"
      ],
      "text/plain": [
       "LineMarkup(' ст . технологический ин - т открыта . опасных предметов не обнаружено',\n",
       "           [Span(6, 28, '#aec7e8')])"
      ]
     },
     "metadata": {},
     "output_type": "display_data"
    },
    {
     "data": {
      "text/html": [
       "<div class=\"tex2jax_ignore\" style=\"line-height: 1.6em; white-space: pre-wrap\">выход на улицу <span style=\"border-bottom: 2px solid #ff9896; padding-bottom: 1px\">восстания</span> и <span style=\"border-bottom: 2px solid #ff9896; padding-bottom: 1px\">московский</span> вокзал; <span style=\"border-bottom: 2px solid #ff9896; padding-bottom: 1px\">спортивная</span> сумка</div>"
      ],
      "text/plain": [
       "LineMarkup('выход на улицу восстания и московский вокзал; спортивная сумка',\n",
       "           [Span(15, 24, '#ff9896'),\n",
       "            Span(27, 37, '#ff9896'),\n",
       "            Span(46, 56, '#ff9896')])"
      ]
     },
     "metadata": {},
     "output_type": "display_data"
    },
    {
     "data": {
      "text/html": [
       "<div class=\"tex2jax_ignore\" style=\"line-height: 1.6em; white-space: pre-wrap\">В 19-54 ст. <span style=\"border-bottom: 2px solid #aec7e8; padding-bottom: 1px\">Ст. Деревня</span> открыта, опасных предметов не обнаружено.</div>"
      ],
      "text/plain": [
       "LineMarkup('В 19-54 ст. Ст. Деревня открыта, опасных предметов не обнаружено.',\n",
       "           [Span(12, 23, '#aec7e8')])"
      ]
     },
     "metadata": {},
     "output_type": "display_data"
    },
    {
     "data": {
      "text/html": [
       "<div class=\"tex2jax_ignore\" style=\"line-height: 1.6em; white-space: pre-wrap\">в 19 - 54 <span style=\"border-bottom: 2px solid #ccc; padding-bottom: 1px\">ст . . деревня</span> открыта , ст. Ст. <span style=\"border-bottom: 2px solid #aec7e8; padding-bottom: 1px\">Гражданский пр.</span></div>"
      ],
      "text/plain": [
       "LineMarkup('в 19 - 54 ст . . деревня открыта , ст. Ст. Гражданский пр.',\n",
       "           [Span(10, 24, '#ccc'), Span(43, 58, '#aec7e8')])"
      ]
     },
     "metadata": {},
     "output_type": "display_data"
    },
    {
     "data": {
      "text/html": [
       "<div class=\"tex2jax_ignore\" style=\"line-height: 1.6em; white-space: pre-wrap\">ст . <span style=\"border-bottom: 2px solid #aec7e8; padding-bottom: 1px\">технологический</span> - 1 и переход на ст . <span style=\"border-bottom: 2px solid #aec7e8; padding-bottom: 1px\">технолог .</span> - 2 </div>"
      ],
      "text/plain": [
       "LineMarkup('ст . технологический - 1 и переход на ст . технолог . - 2 ',\n",
       "           [Span(5, 20, '#aec7e8'), Span(43, 53, '#aec7e8')])"
      ]
     },
     "metadata": {},
     "output_type": "display_data"
    },
    {
     "data": {
      "text/html": [
       "<div class=\"tex2jax_ignore\" style=\"line-height: 1.6em; white-space: pre-wrap\">комментарии губернатора спб . полтавченко <span style=\"border-bottom: 2px solid #ff9896; padding-bottom: 1px\">г .</span> с </div>"
      ],
      "text/plain": [
       "LineMarkup('комментарии губернатора спб . полтавченко г . с ',\n",
       "           [Span(42, 45, '#ff9896')])"
      ]
     },
     "metadata": {},
     "output_type": "display_data"
    },
    {
     "data": {
      "text/html": [
       "<div class=\"tex2jax_ignore\" style=\"line-height: 1.6em; white-space: pre-wrap\">ст . <span style=\"border-bottom: 2px solid #ccc; padding-bottom: 1px\">гостинный двор</span>; на ст . <span style=\"border-bottom: 2px solid #ccc; padding-bottom: 1px\">ладожкская</span> снято</div>"
      ],
      "text/plain": [
       "LineMarkup('ст . гостинный двор; на ст . ладожкская снято',\n",
       "           [Span(5, 19, '#ccc'), Span(29, 39, '#ccc')])"
      ]
     },
     "metadata": {},
     "output_type": "display_data"
    }
   ],
   "source": [
    "%run notebook/station_title.py\n",
    "\n",
    "test(STATION_TITLE,\n",
    "     ['Гостинку и гостиный двор 28 апреля 2018 года ст . приморская закрыта', 'гостиный двор', 'Гостинку', 'приморская'],\n",
    "     ['техн и-т закрыт; переход тн 1 открыт, для тех кто не знал ', 'техн и-т', 'тн'],\n",
    "     [' ст . технологический ин - т открыта . опасных предметов не обнаружено', 'технологический ин - т'],\n",
    "     ['выход на улицу восстания и московский вокзал; спортивная сумка', ],\n",
    "     ['В 19-54 ст. Ст. Деревня открыта, опасных предметов не обнаружено.', 'Ст. Деревня'],\n",
    "     ['в 19 - 54 ст . . деревня открыта , ст. Ст. Гражданский пр.', 'ст . . деревня', 'Гражданский пр.'],\n",
    "     ['ст . технологический - 1 и переход на ст . технолог . - 2 ', 'технологический', 'технолог .'],\n",
    "     ['комментарии губернатора спб . полтавченко г . с '],\n",
    "     ['ст . гостинный двор; на ст . ладожкская снято', 'гостинный двор', 'ладожкская'],\n",
    "     facts=False, tree=False)"
   ]
  },
  {
   "cell_type": "code",
   "execution_count": 11,
   "metadata": {
    "scrolled": false
   },
   "outputs": [
    {
     "data": {
      "application/vnd.jupyter.widget-view+json": {
       "model_id": "a5c6dc7e3ac349769195532eaf000a48",
       "version_major": 2,
       "version_minor": 0
      },
      "text/plain": [
       "Annotation(canvas=OutputCanvas(), progress=Progress(atoms=[<ipyannotate.progress.Atom object at 0x7f70d0f734a8…"
      ]
     },
     "metadata": {},
     "output_type": "display_data"
    }
   ],
   "source": [
    "check(STATION_TITLE, facts=True)"
   ]
  },
  {
   "cell_type": "code",
   "execution_count": 12,
   "metadata": {},
   "outputs": [],
   "source": [
    "%run structure.py\n",
    "from datetime import datetime as dt\n",
    "import pandas as pd\n",
    "\n",
    "x = [_.date for _ in History.load()]\n",
    "d = pd.DataFrame({ \"date\": pd.to_datetime(x, unit='s') })\n",
    "d['day'] = d['date'].map(lambda d: d.toordinal())\n",
    "\n",
    "kek = d.day.value_counts(); kek\n",
    "e = kek.reset_index(name='freq').set_index(kek.index.map(dt.fromordinal))\n",
    "e.freq = e.freq.map(lambda x: x // 2)\n",
    "# (e / 734).freq.sum()\n",
    "# e"
   ]
  }
 ],
 "metadata": {
  "kernelspec": {
   "display_name": "Python 3",
   "language": "python",
   "name": "python3"
  },
  "language_info": {
   "codemirror_mode": {
    "name": "ipython",
    "version": 3
   },
   "file_extension": ".py",
   "mimetype": "text/x-python",
   "name": "python",
   "nbconvert_exporter": "python",
   "pygments_lexer": "ipython3",
   "version": "3.7.1"
  }
 },
 "nbformat": 4,
 "nbformat_minor": 2
}
