{
 "cells": [
  {
   "cell_type": "markdown",
   "metadata": {},
   "source": [
    "# Data"
   ]
  },
  {
   "cell_type": "code",
   "execution_count": 1,
   "metadata": {
    "code_folding": []
   },
   "outputs": [
    {
     "name": "stdout",
     "output_type": "stream",
     "text": [
      "/home/mi/work/spbmetro\n"
     ]
    }
   ],
   "source": [
    "%load_ext autoreload\n",
    "%autoreload 2\n",
    "%cd /home/mi/au/spbmetro\n",
    "\n",
    "from ipyannotate import annotate\n",
    "from ipyannotate.buttons import (ValueButton as Button, BackButton, NextButton)\n",
    "\n",
    "def check(rule, tree=False, facts=False):\n",
    "    return annotate(texts, buttons=[\n",
    "        Button('ok', color='green', shortcut='1'),\n",
    "        Button('err', color='red', shortcut='2'),\n",
    "        BackButton(shortcut='j'), NextButton(shortcut='k'),\n",
    "    ], display=lambda text: test(rule, text, tree=tree, facts=facts))\n",
    "\n",
    "from Levenshtein import distance\n",
    "from yargy.tokenizer import MorphTokenizer\n",
    "from yargy.predicates import gram, in_, type, normalized, eq, custom\n",
    "from yargy.pipelines import morph_pipeline\n",
    "from yargy.relations import gnc_relation, main\n",
    "from yargy import or_, and_, not_, rule, Parser\n",
    "from yargy import interpretation as interp\n",
    "from yargy.interpretation import fact, attribute\n",
    "from yargy import interpretation as interp\n",
    "import yargy\n",
    "import re\n",
    "\n",
    "from notebook.common import *\n",
    "from notebook.helper import test, test_samples\n",
    "\n",
    "\n",
    "from structure import History, Subway\n",
    "texts = [_.text for _ in History.load().messages.values()]"
   ]
  },
  {
   "cell_type": "markdown",
   "metadata": {},
   "source": [
    "# Grammar"
   ]
  },
  {
   "cell_type": "code",
   "execution_count": 14,
   "metadata": {
    "scrolled": true
   },
   "outputs": [
    {
     "data": {
      "text/plain": [
       "[MorphToken('работает',\n",
       "            [1, 9),\n",
       "            'RU',\n",
       "            [Form('работать', Grams(3per,VERB,impf,indc,intr,pres,sing))]),\n",
       " MorphToken('только',\n",
       "            [10, 16),\n",
       "            'RU',\n",
       "            [Form('только', Grams(PRCL)), Form('только', Grams(CONJ))]),\n",
       " MorphToken('на',\n",
       "            [17, 19),\n",
       "            'RU',\n",
       "            [Form('на', Grams(PREP)),\n",
       "             Form('на', Grams(PRCL)),\n",
       "             Form('на', Grams(INTJ))]),\n",
       " MorphToken('выход',\n",
       "            [20, 25),\n",
       "            'RU',\n",
       "            [Form('выход', Grams(NOUN,accs,inan,masc,sing)),\n",
       "             Form('выход', Grams(NOUN,inan,masc,nomn,sing))])]"
      ]
     },
     "execution_count": 14,
     "metadata": {},
     "output_type": "execute_result"
    }
   ],
   "source": [
    "[t for t in TOKENIZER(' работает только на выход ')]"
   ]
  },
  {
   "cell_type": "markdown",
   "metadata": {},
   "source": [
    "## Time"
   ]
  },
  {
   "cell_type": "code",
   "execution_count": 3,
   "metadata": {
    "code_folding": [
     10
    ],
    "scrolled": false
   },
   "outputs": [
    {
     "data": {
      "text/html": [
       "<div class=\"tex2jax_ignore\" style=\"line-height: 1.6em; white-space: pre-wrap\"><span style=\"border-bottom: 2px solid #aec7e8; padding-bottom: 1px\">в  12:31</span> но не в 33:33 и не в 09:90</div>"
      ],
      "text/plain": [
       "LineMarkup('в  12:31 но не в 33:33 и не в 09:90', [Span(0, 8, '#aec7e8')])"
      ]
     },
     "metadata": {},
     "output_type": "display_data"
    },
    {
     "data": {
      "text/html": [
       "<div class=\"tex2jax_ignore\" style=\"line-height: 1.6em; white-space: pre-wrap\">что с  <span style=\"border-bottom: 2px solid #aec7e8; padding-bottom: 1px\">1:09</span>  по  <span style=\"border-bottom: 2px solid #aec7e8; padding-bottom: 1px\">8:09</span>  с  <span style=\"border-bottom: 2px solid #aec7e8; padding-bottom: 1px\">8:20</span>  до  <span style=\"border-bottom: 2px solid #aec7e8; padding-bottom: 1px\">9:00  ч</span> вход</div>"
      ],
      "text/plain": [
       "LineMarkup('что с  1:09  по  8:09  с  8:20  до  9:00  ч вход',\n",
       "           [Span(7, 11, '#aec7e8'),\n",
       "            Span(17, 21, '#aec7e8'),\n",
       "            Span(26, 30, '#aec7e8'),\n",
       "            Span(36, 43, '#aec7e8')])"
      ]
     },
     "metadata": {},
     "output_type": "display_data"
    },
    {
     "data": {
      "text/html": [
       "<div class=\"tex2jax_ignore\" style=\"line-height: 1.6em; white-space: pre-wrap\">что  <span style=\"border-bottom: 2px solid #ff9896; padding-bottom: 1px\">10:02</span> .2018 и <span style=\"border-bottom: 2px solid #ff9896; padding-bottom: 1px\">10.02</span>.2018 станция закрыта</div>"
      ],
      "text/plain": [
       "LineMarkup('что  10:02 .2018 и 10.02.2018 станция закрыта',\n",
       "           [Span(5, 10, '#ff9896'), Span(19, 24, '#ff9896')])"
      ]
     },
     "metadata": {},
     "output_type": "display_data"
    },
    {
     "data": {
      "text/html": [
       "<div class=\"tex2jax_ignore\" style=\"line-height: 1.6em; white-space: pre-wrap\">с<span style=\"border-bottom: 2px solid #aec7e8; padding-bottom: 1px\">16ч 04 мин</span> до конца рабочего дня станция закрыта</div>"
      ],
      "text/plain": [
       "LineMarkup('с16ч 04 мин до конца рабочего дня станция закрыта',\n",
       "           [Span(1, 11, '#aec7e8')])"
      ]
     },
     "metadata": {},
     "output_type": "display_data"
    },
    {
     "data": {
      "text/html": [
       "<div class=\"tex2jax_ignore\" style=\"line-height: 1.6em; white-space: pre-wrap\"><span style=\"border-bottom: 2px solid #aec7e8; padding-bottom: 1px\">в 17 ч02 мин</span> александра невского 1-2 закрыт <span style=\"border-bottom: 2px solid #aec7e8; padding-bottom: 1px\">в  18.40</span> и <span style=\"border-bottom: 2px solid #aec7e8; padding-bottom: 1px\">в 18- 40</span> </div>"
      ],
      "text/plain": [
       "LineMarkup('в 17 ч02 мин александра невского 1-2 закрыт в  18.40 и в 18- 40 ',\n",
       "           [Span(0, 12, '#aec7e8'),\n",
       "            Span(44, 52, '#aec7e8'),\n",
       "            Span(55, 63, '#aec7e8')])"
      ]
     },
     "metadata": {},
     "output_type": "display_data"
    },
    {
     "data": {
      "text/html": [
       "<div class=\"tex2jax_ignore\" style=\"line-height: 1.6em; white-space: pre-wrap\">баллончик <span style=\"border-bottom: 2px solid #aec7e8; padding-bottom: 1px\">в  18:10 ч.</span> нарушитель, с <span style=\"border-bottom: 2px solid #aec7e8; padding-bottom: 1px\">10-27 мин</span></div>"
      ],
      "text/plain": [
       "LineMarkup('баллончик в  18:10 ч. нарушитель, с 10-27 мин',\n",
       "           [Span(10, 21, '#aec7e8'), Span(36, 45, '#aec7e8')])"
      ]
     },
     "metadata": {},
     "output_type": "display_data"
    },
    {
     "data": {
      "text/html": [
       "<div class=\"tex2jax_ignore\" style=\"line-height: 1.6em; white-space: pre-wrap\">пункт <span style=\"border-bottom: 2px solid #ff9896; padding-bottom: 1px\">2. </span><span style=\"border-bottom: 2px solid #ff9896; padding-bottom: 1px\"><span style=\"border-bottom: 2px solid #ccc; padding-bottom: 4px\">16</span></span><span style=\"border-bottom: 2px solid #ccc; padding-bottom: 4px\">-40</span> закрыта платформа</div>"
      ],
      "text/plain": [
       "LineMarkup('пункт 2. 16-40 закрыта платформа',\n",
       "           [Span(6, 11, '#ff9896'), Span(9, 14, '#ccc')])"
      ]
     },
     "metadata": {},
     "output_type": "display_data"
    }
   ],
   "source": [
    "from notebook.time import TIME\n",
    "\n",
    "test(TIME,\n",
    "     ['в  12:31 но не в 33:33 и не в 09:90',               'в  12:31'],\n",
    "     ['что с  1:09  по  8:09  с  8:20  до  9:00  ч вход',  '1:09', '8:09', '8:20', '9:00  ч'],\n",
    "     ['что  10:02 .2018 и 10.02.2018 станция закрыта'],\n",
    "     ['с16ч 04 мин до конца рабочего дня станция закрыта', '16ч 04 мин'],\n",
    "     ['в 17 ч02 мин александра невского 1-2 закрыт в  18.40 и в 18- 40 ', \n",
    "                                                           'в 17 ч02 мин', 'в  18.40', 'в 18- 40'],\n",
    "     ['баллончик в  18:10 ч. нарушитель, с 10-27 мин',     'в  18:10 ч.', '10-27 мин'],\n",
    "     ['пункт 2. 16-40 закрыта платформа',                  '16-40'],\n",
    "     facts=False, tree=False\n",
    "     )"
   ]
  },
  {
   "cell_type": "code",
   "execution_count": 4,
   "metadata": {},
   "outputs": [],
   "source": [
    "# annotate_time = check(TIME, facts=True);\n",
    "# annotate_time\n",
    "# print('failed:', len([_ for _ in annotate_time.tasks if _.value != 'ok']), '/', len(annotate_time.tasks))"
   ]
  },
  {
   "cell_type": "markdown",
   "metadata": {},
   "source": [
    "## Duration"
   ]
  },
  {
   "cell_type": "code",
   "execution_count": 5,
   "metadata": {
    "code_folding": [
     12
    ],
    "scrolled": true
   },
   "outputs": [
    {
     "data": {
      "text/html": [
       "<div class=\"tex2jax_ignore\" style=\"line-height: 1.6em; white-space: pre-wrap\"><span style=\"border-bottom: 2px solid #aec7e8; padding-bottom: 1px\">с  12:31</span> но не с 33:33 до 09:90 а <span style=\"border-bottom: 2px solid #aec7e8; padding-bottom: 1px\">до 09:30</span></div>"
      ],
      "text/plain": [
       "LineMarkup('с  12:31 но не с 33:33 до 09:90 а до 09:30',\n",
       "           [Span(0, 8, '#aec7e8'), Span(34, 42, '#aec7e8')])"
      ]
     },
     "metadata": {},
     "output_type": "display_data"
    },
    {
     "data": {
      "text/html": [
       "<div class=\"tex2jax_ignore\" style=\"line-height: 1.6em; white-space: pre-wrap\">что <span style=\"border-bottom: 2px solid #aec7e8; padding-bottom: 1px\">с  1:09  по  8:09</span>  <span style=\"border-bottom: 2px solid #aec7e8; padding-bottom: 1px\">с  8:20  до  9:00  ч</span> вход</div>"
      ],
      "text/plain": [
       "LineMarkup('что с  1:09  по  8:09  с  8:20  до  9:00  ч вход',\n",
       "           [Span(4, 21, '#aec7e8'), Span(23, 43, '#aec7e8')])"
      ]
     },
     "metadata": {},
     "output_type": "display_data"
    },
    {
     "data": {
      "text/html": [
       "<div class=\"tex2jax_ignore\" style=\"line-height: 1.6em; white-space: pre-wrap\">что <span style=\"border-bottom: 2px solid #ff9896; padding-bottom: 1px\">с 10:02</span> .2018 и <span style=\"border-bottom: 2px solid #ff9896; padding-bottom: 1px\">с 10.02</span>.2018 станция закрыта</div>"
      ],
      "text/plain": [
       "LineMarkup('что с 10:02 .2018 и с 10.02.2018 станция закрыта',\n",
       "           [Span(4, 11, '#ff9896'), Span(20, 27, '#ff9896')])"
      ]
     },
     "metadata": {},
     "output_type": "display_data"
    },
    {
     "data": {
      "text/html": [
       "<div class=\"tex2jax_ignore\" style=\"line-height: 1.6em; white-space: pre-wrap\"><span style=\"border-bottom: 2px solid #aec7e8; padding-bottom: 1px\">с16ч 04 мин до конца рабочего дня</span> станция закрыта</div>"
      ],
      "text/plain": [
       "LineMarkup('с16ч 04 мин до конца рабочего дня станция закрыта',\n",
       "           [Span(0, 33, '#aec7e8')])"
      ]
     },
     "metadata": {},
     "output_type": "display_data"
    },
    {
     "data": {
      "text/html": [
       "<div class=\"tex2jax_ignore\" style=\"line-height: 1.6em; white-space: pre-wrap\"><span style=\"border-bottom: 2px solid #aec7e8; padding-bottom: 1px\">с 17 ч02 мин</span> александра невского 1-2 до конечной станции закрыты <span style=\"border-bottom: 2px solid #aec7e8; padding-bottom: 1px\">с 18:40</span> и <span style=\"border-bottom: 2px solid #aec7e8; padding-bottom: 1px\">с 18- 40</span></div>"
      ],
      "text/plain": [
       "LineMarkup('с 17 ч02 мин александра невского 1-2 до конечной станции закрыты с 18:40 и с 18- 40',\n",
       "           [Span(0, 12, '#aec7e8'),\n",
       "            Span(65, 72, '#aec7e8'),\n",
       "            Span(75, 83, '#aec7e8')])"
      ]
     },
     "metadata": {},
     "output_type": "display_data"
    },
    {
     "data": {
      "text/html": [
       "<div class=\"tex2jax_ignore\" style=\"line-height: 1.6em; white-space: pre-wrap\"><span style=\"border-bottom: 2px solid #aec7e8; padding-bottom: 1px\">с  18:10 ч.</span> закрыта, <span style=\"border-bottom: 2px solid #aec7e8; padding-bottom: 1px\">с 10-27 мин</span> тоже</div>"
      ],
      "text/plain": [
       "LineMarkup('с  18:10 ч. закрыта, с 10-27 мин тоже',\n",
       "           [Span(0, 11, '#aec7e8'), Span(21, 32, '#aec7e8')])"
      ]
     },
     "metadata": {},
     "output_type": "display_data"
    },
    {
     "data": {
      "text/html": [
       "<div class=\"tex2jax_ignore\" style=\"line-height: 1.6em; white-space: pre-wrap\"><span style=\"border-bottom: 2px solid #aec7e8; padding-bottom: 1px\">с 17-00 до окончания</span> будет</div>"
      ],
      "text/plain": [
       "LineMarkup('с 17-00 до окончания будет', [Span(0, 20, '#aec7e8')])"
      ]
     },
     "metadata": {},
     "output_type": "display_data"
    }
   ],
   "source": [
    "from notebook.duration import DURATION\n",
    "\n",
    "test(DURATION,\n",
    "     ['с  12:31 но не с 33:33 до 09:90 а до 09:30', 'с  12:31', 'до 09:30'],\n",
    "     ['что с  1:09  по  8:09  с  8:20  до  9:00  ч вход', 'с  1:09  по  8:09', 'с  8:20  до  9:00  ч'],\n",
    "     ['что с 10:02 .2018 и с 10.02.2018 станция закрыта'],\n",
    "     ['с16ч 04 мин до конца рабочего дня станция закрыта', 'с16ч 04 мин до конца рабочего дня'],\n",
    "     ['с 17 ч02 мин александра невского 1-2 до конечной станции закрыты с 18:40 и с 18- 40',\n",
    "          'с 17 ч02 мин', 'с 18:40', 'с 18- 40'],\n",
    "     ['с  18:10 ч. закрыта, с 10-27 мин тоже', 'с  18:10 ч.', 'с 10-27 мин'],\n",
    "     ['с 17-00 до окончания будет', 'с 17-00 до окончания'],\n",
    "     facts=False, tree=False\n",
    "     )"
   ]
  },
  {
   "cell_type": "markdown",
   "metadata": {},
   "source": [
    "## Literals"
   ]
  },
  {
   "cell_type": "code",
   "execution_count": 6,
   "metadata": {},
   "outputs": [
    {
     "data": {
      "text/html": [
       "<div class=\"tex2jax_ignore\" style=\"line-height: 1.6em; white-space: pre-wrap\">без <span style=\"border-bottom: 2px solid #aec7e8; padding-bottom: 1px\">двух</span>; <span style=\"border-bottom: 2px solid #aec7e8; padding-bottom: 1px\">один</span>, <span style=\"border-bottom: 2px solid #aec7e8; padding-bottom: 1px\">два</span>; <span style=\"border-bottom: 2px solid #aec7e8; padding-bottom: 1px\">первый</span>, <span style=\"border-bottom: 2px solid #aec7e8; padding-bottom: 1px\">второй</span></div>"
      ],
      "text/plain": [
       "LineMarkup('без двух; один, два; первый, второй',\n",
       "           [Span(4, 8, '#aec7e8'),\n",
       "            Span(10, 14, '#aec7e8'),\n",
       "            Span(16, 19, '#aec7e8'),\n",
       "            Span(21, 27, '#aec7e8'),\n",
       "            Span(29, 35, '#aec7e8')])"
      ]
     },
     "metadata": {},
     "output_type": "display_data"
    },
    {
     "data": {
      "text/html": [
       "<div class=\"tex2jax_ignore\" style=\"line-height: 1.6em; white-space: pre-wrap\">вестибюль - <span style=\"border-bottom: 2px solid #ff9896; padding-bottom: 1px\">1, 2</span>;   невского <span style=\"border-bottom: 2px solid #ff9896; padding-bottom: 1px\">1 и 2</span>;   восстания <span style=\"border-bottom: 2px solid #ff9896; padding-bottom: 1px\">1</span></div>"
      ],
      "text/plain": [
       "LineMarkup('вестибюль - 1, 2;   невского 1 и 2;   восстания 1',\n",
       "           [Span(12, 16, '#ff9896'),\n",
       "            Span(29, 34, '#ff9896'),\n",
       "            Span(48, 49, '#ff9896')])"
      ]
     },
     "metadata": {},
     "output_type": "display_data"
    },
    {
     "data": {
      "text/html": [
       "<div class=\"tex2jax_ignore\" style=\"line-height: 1.6em; white-space: pre-wrap\"><span style=\"border-bottom: 2px solid #ff9896; padding-bottom: 1px\">второй и первый</span> павильоны; <span style=\"border-bottom: 2px solid #ff9896; padding-bottom: 1px\">первый - второй</span> вестибюли</div>"
      ],
      "text/plain": [
       "LineMarkup('второй и первый павильоны; первый - второй вестибюли',\n",
       "           [Span(0, 15, '#ff9896'), Span(27, 42, '#ff9896')])"
      ]
     },
     "metadata": {},
     "output_type": "display_data"
    }
   ],
   "source": [
    "from notebook.literal import *\n",
    "\n",
    "test(LITERAL, ['без двух; один, два; первый, второй', 'двух', 'один', 'два', 'первый', 'второй'], facts=False)\n",
    "test(LIST_OF_NUMERALS, ['вестибюль - 1, 2;   невского 1 и 2;   восстания 1'], facts=False)\n",
    "test(LIST_OF_LITERALS, ['второй и первый павильоны; первый - второй вестибюли'], facts=False)"
   ]
  },
  {
   "cell_type": "markdown",
   "metadata": {},
   "source": [
    "## Vestibules"
   ]
  },
  {
   "cell_type": "code",
   "execution_count": 7,
   "metadata": {
    "code_folding": []
   },
   "outputs": [
    {
     "data": {
      "text/html": [
       "<div class=\"tex2jax_ignore\" style=\"line-height: 1.6em; white-space: pre-wrap\"><span style=\"border-bottom: 2px solid #aec7e8; padding-bottom: 1px\">вестибюли 1 и 2</span> ст . ленинский проспект открыт</div>"
      ],
      "text/plain": [
       "LineMarkup('вестибюли 1 и 2 ст . ленинский проспект открыт',\n",
       "           [Span(0, 15, '#aec7e8')])"
      ]
     },
     "metadata": {},
     "output_type": "display_data"
    },
    {
     "data": {
      "text/plain": [
       "Vestibules(num=[1, 2])"
      ]
     },
     "metadata": {},
     "output_type": "display_data"
    },
    {
     "data": {
      "text/html": [
       "<div class=\"tex2jax_ignore\" style=\"line-height: 1.6em; white-space: pre-wrap\">Временно открыт <span style=\"border-bottom: 2px solid #aec7e8; padding-bottom: 1px\">вестибюль 2</span> ст. Достоевская на вход и выход.</div>"
      ],
      "text/plain": [
       "LineMarkup('Временно открыт вестибюль 2 ст. Достоевская на вход и выход.',\n",
       "           [Span(16, 27, '#aec7e8')])"
      ]
     },
     "metadata": {},
     "output_type": "display_data"
    },
    {
     "data": {
      "text/plain": [
       "Vestibules(num=[2])"
      ]
     },
     "metadata": {},
     "output_type": "display_data"
    },
    {
     "data": {
      "text/html": [
       "<div class=\"tex2jax_ignore\" style=\"line-height: 1.6em; white-space: pre-wrap\"><span style=\"border-bottom: 2px solid #aec7e8; padding-bottom: 1px\">Второй и первый вестибюли</span> открыты</div>"
      ],
      "text/plain": [
       "LineMarkup('Второй и первый вестибюли открыты', [Span(0, 25, '#aec7e8')])"
      ]
     },
     "metadata": {},
     "output_type": "display_data"
    },
    {
     "data": {
      "text/plain": [
       "Vestibules(num=[1, 2])"
      ]
     },
     "metadata": {},
     "output_type": "display_data"
    }
   ],
   "source": [
    "from notebook.vestibule import VESTIBULE\n",
    "\n",
    "test(VESTIBULE,\n",
    "    ['вестибюли 1 и 2 ст . ленинский проспект открыт', 'вестибюли 1 и 2'],\n",
    "    ['Временно открыт вестибюль 2 ст. Достоевская на вход и выход.', 'вестибюль 2'],\n",
    "    ['Второй и первый вестибюли открыты', 'Второй и первый вестибюли'],\n",
    "    facts=True)"
   ]
  },
  {
   "cell_type": "markdown",
   "metadata": {},
   "source": [
    "## Station titles"
   ]
  },
  {
   "cell_type": "code",
   "execution_count": 8,
   "metadata": {
    "scrolled": true
   },
   "outputs": [
    {
     "data": {
      "text/html": [
       "<div class=\"tex2jax_ignore\" style=\"line-height: 1.6em; white-space: pre-wrap\"><span style=\"border-bottom: 2px solid #aec7e8; padding-bottom: 1px\">Гостинку</span> и <span style=\"border-bottom: 2px solid #aec7e8; padding-bottom: 1px\">гостиный двор</span> 28 апреля 2018 года ст . <span style=\"border-bottom: 2px solid #aec7e8; padding-bottom: 1px\">приморская</span> закрыта</div>"
      ],
      "text/plain": [
       "LineMarkup('Гостинку и гостиный двор 28 апреля 2018 года ст . приморская закрыта',\n",
       "           [Span(0, 8, '#aec7e8'),\n",
       "            Span(11, 24, '#aec7e8'),\n",
       "            Span(50, 60, '#aec7e8')])"
      ]
     },
     "metadata": {},
     "output_type": "display_data"
    },
    {
     "data": {
      "text/html": [
       "<div class=\"tex2jax_ignore\" style=\"line-height: 1.6em; white-space: pre-wrap\"><span style=\"border-bottom: 2px solid #aec7e8; padding-bottom: 1px\">техн и-т</span> закрыт; переход <span style=\"border-bottom: 2px solid #aec7e8; padding-bottom: 1px\">тн</span> 1 открыт, для тех кто не знал </div>"
      ],
      "text/plain": [
       "LineMarkup('техн и-т закрыт; переход тн 1 открыт, для тех кто не знал ',\n",
       "           [Span(0, 8, '#aec7e8'), Span(25, 27, '#aec7e8')])"
      ]
     },
     "metadata": {},
     "output_type": "display_data"
    },
    {
     "data": {
      "text/html": [
       "<div class=\"tex2jax_ignore\" style=\"line-height: 1.6em; white-space: pre-wrap\"> ст . <span style=\"border-bottom: 2px solid #aec7e8; padding-bottom: 1px\">технологический ин - т</span> открыта . опасных предметов не обнаружено</div>"
      ],
      "text/plain": [
       "LineMarkup(' ст . технологический ин - т открыта . опасных предметов не обнаружено',\n",
       "           [Span(6, 28, '#aec7e8')])"
      ]
     },
     "metadata": {},
     "output_type": "display_data"
    },
    {
     "data": {
      "text/html": [
       "<div class=\"tex2jax_ignore\" style=\"line-height: 1.6em; white-space: pre-wrap\">выход на улицу <span style=\"border-bottom: 2px solid #ff9896; padding-bottom: 1px\">восстания</span> и <span style=\"border-bottom: 2px solid #ff9896; padding-bottom: 1px\">московский</span> вокзал; <span style=\"border-bottom: 2px solid #ff9896; padding-bottom: 1px\">спортивная</span> сумка</div>"
      ],
      "text/plain": [
       "LineMarkup('выход на улицу восстания и московский вокзал; спортивная сумка',\n",
       "           [Span(15, 24, '#ff9896'),\n",
       "            Span(27, 37, '#ff9896'),\n",
       "            Span(46, 56, '#ff9896')])"
      ]
     },
     "metadata": {},
     "output_type": "display_data"
    },
    {
     "data": {
      "text/html": [
       "<div class=\"tex2jax_ignore\" style=\"line-height: 1.6em; white-space: pre-wrap\">В 19-54 ст. <span style=\"border-bottom: 2px solid #aec7e8; padding-bottom: 1px\">Ст. Деревня</span> открыта, опасных предметов не обнаружено.</div>"
      ],
      "text/plain": [
       "LineMarkup('В 19-54 ст. Ст. Деревня открыта, опасных предметов не обнаружено.',\n",
       "           [Span(12, 23, '#aec7e8')])"
      ]
     },
     "metadata": {},
     "output_type": "display_data"
    },
    {
     "data": {
      "text/html": [
       "<div class=\"tex2jax_ignore\" style=\"line-height: 1.6em; white-space: pre-wrap\">в 19 - 54 <span style=\"border-bottom: 2px solid #ccc; padding-bottom: 1px\">ст . . деревня</span> открыта , ст. Ст. <span style=\"border-bottom: 2px solid #aec7e8; padding-bottom: 1px\">Гражданский пр.</span></div>"
      ],
      "text/plain": [
       "LineMarkup('в 19 - 54 ст . . деревня открыта , ст. Ст. Гражданский пр.',\n",
       "           [Span(10, 24, '#ccc'), Span(43, 58, '#aec7e8')])"
      ]
     },
     "metadata": {},
     "output_type": "display_data"
    },
    {
     "data": {
      "text/html": [
       "<div class=\"tex2jax_ignore\" style=\"line-height: 1.6em; white-space: pre-wrap\">ст . <span style=\"border-bottom: 2px solid #aec7e8; padding-bottom: 1px\">технологический</span> - 1 и переход на ст . <span style=\"border-bottom: 2px solid #aec7e8; padding-bottom: 1px\">технолог .</span> - 2 </div>"
      ],
      "text/plain": [
       "LineMarkup('ст . технологический - 1 и переход на ст . технолог . - 2 ',\n",
       "           [Span(5, 20, '#aec7e8'), Span(43, 53, '#aec7e8')])"
      ]
     },
     "metadata": {},
     "output_type": "display_data"
    },
    {
     "data": {
      "text/html": [
       "<div class=\"tex2jax_ignore\" style=\"line-height: 1.6em; white-space: pre-wrap\">комментарии губернатора спб . полтавченко <span style=\"border-bottom: 2px solid #ff9896; padding-bottom: 1px\">г .</span> с </div>"
      ],
      "text/plain": [
       "LineMarkup('комментарии губернатора спб . полтавченко г . с ',\n",
       "           [Span(42, 45, '#ff9896')])"
      ]
     },
     "metadata": {},
     "output_type": "display_data"
    },
    {
     "data": {
      "text/html": [
       "<div class=\"tex2jax_ignore\" style=\"line-height: 1.6em; white-space: pre-wrap\">ст . <span style=\"border-bottom: 2px solid #ccc; padding-bottom: 1px\">гостинный двор</span>; на ст . <span style=\"border-bottom: 2px solid #ccc; padding-bottom: 1px\">ладожкская</span> снято</div>"
      ],
      "text/plain": [
       "LineMarkup('ст . гостинный двор; на ст . ладожкская снято',\n",
       "           [Span(5, 19, '#ccc'), Span(29, 39, '#ccc')])"
      ]
     },
     "metadata": {},
     "output_type": "display_data"
    }
   ],
   "source": [
    "from notebook.station_title import STATION_TITLE\n",
    "\n",
    "test(STATION_TITLE,\n",
    "     ['Гостинку и гостиный двор 28 апреля 2018 года ст . приморская закрыта', 'гостиный двор', 'Гостинку', 'приморская'],\n",
    "     ['техн и-т закрыт; переход тн 1 открыт, для тех кто не знал ', 'техн и-т', 'тн'],\n",
    "     [' ст . технологический ин - т открыта . опасных предметов не обнаружено', 'технологический ин - т'],\n",
    "     ['выход на улицу восстания и московский вокзал; спортивная сумка', ],\n",
    "     ['В 19-54 ст. Ст. Деревня открыта, опасных предметов не обнаружено.', 'Ст. Деревня'],\n",
    "     ['в 19 - 54 ст . . деревня открыта , ст. Ст. Гражданский пр.', 'ст . . деревня', 'Гражданский пр.'],\n",
    "     ['ст . технологический - 1 и переход на ст . технолог . - 2 ', 'технологический', 'технолог .'],\n",
    "     ['комментарии губернатора спб . полтавченко г . с '],\n",
    "     ['ст . гостинный двор; на ст . ладожкская снято', 'гостинный двор', 'ладожкская'],\n",
    "     facts=False, tree=False)"
   ]
  },
  {
   "cell_type": "markdown",
   "metadata": {},
   "source": [
    "## Stations & Transfers"
   ]
  },
  {
   "cell_type": "code",
   "execution_count": 9,
   "metadata": {
    "scrolled": false
   },
   "outputs": [
    {
     "data": {
      "text/html": [
       "<div class=\"tex2jax_ignore\" style=\"line-height: 1.6em; white-space: pre-wrap\"><span style=\"border-bottom: 2px solid #aec7e8; padding-bottom: 1px\">переход Гостиный двор- Невский пр.</span> открыт</div>"
      ],
      "text/plain": [
       "LineMarkup('переход Гостиный двор- Невский пр. открыт',\n",
       "           [Span(0, 34, '#aec7e8')])"
      ]
     },
     "metadata": {},
     "output_type": "display_data"
    },
    {
     "data": {
      "text/html": [
       "<div class=\"tex2jax_ignore\" style=\"line-height: 1.6em; white-space: pre-wrap\"><span style=\"border-bottom: 2px solid #aec7e8; padding-bottom: 1px\">Переход со ст. м. «Озерки» на ст.Владимирская</span> закрыт</div>"
      ],
      "text/plain": [
       "LineMarkup('Переход со ст. м. «Озерки» на ст.Владимирская закрыт',\n",
       "           [Span(0, 45, '#aec7e8')])"
      ]
     },
     "metadata": {},
     "output_type": "display_data"
    },
    {
     "data": {
      "text/html": [
       "<div class=\"tex2jax_ignore\" style=\"line-height: 1.6em; white-space: pre-wrap\"><span style=\"border-bottom: 2px solid #ff9896; padding-bottom: 1px\"><span style=\"border-bottom: 2px solid #ccc; padding-bottom: 4px\">переход</span></span><span style=\"border-bottom: 2px solid #ccc; padding-bottom: 4px\"> на верхнюю платформу</span> закрыт</div>"
      ],
      "text/plain": [
       "LineMarkup('переход на верхнюю платформу закрыт',\n",
       "           [Span(0, 7, '#ff9896'), Span(0, 28, '#ccc')])"
      ]
     },
     "metadata": {},
     "output_type": "display_data"
    },
    {
     "data": {
      "text/html": [
       "<div class=\"tex2jax_ignore\" style=\"line-height: 1.6em; white-space: pre-wrap\">Ст. пл. Ал.Невского2 и <span style=\"border-bottom: 2px solid #aec7e8; padding-bottom: 1px\">переход Ал.Невского1-2</span> закрыт</div>"
      ],
      "text/plain": [
       "LineMarkup('Ст. пл. Ал.Невского2 и переход Ал.Невского1-2 закрыт',\n",
       "           [Span(23, 45, '#aec7e8')])"
      ]
     },
     "metadata": {},
     "output_type": "display_data"
    },
    {
     "data": {
      "text/html": [
       "<div class=\"tex2jax_ignore\" style=\"line-height: 1.6em; white-space: pre-wrap\">и <span style=\"border-bottom: 2px solid #aec7e8; padding-bottom: 1px\">переходы с Гостиного двора</span> открыты</div>"
      ],
      "text/plain": [
       "LineMarkup('и переходы с Гостиного двора открыты', [Span(2, 28, '#aec7e8')])"
      ]
     },
     "metadata": {},
     "output_type": "display_data"
    },
    {
     "data": {
      "text/html": [
       "<div class=\"tex2jax_ignore\" style=\"line-height: 1.6em; white-space: pre-wrap\"><span style=\"border-bottom: 2px solid #aec7e8; padding-bottom: 1px\">переход Влад.- Достоевская</span> закрыты</div>"
      ],
      "text/plain": [
       "LineMarkup('переход Влад.- Достоевская закрыты', [Span(0, 26, '#aec7e8')])"
      ]
     },
     "metadata": {},
     "output_type": "display_data"
    },
    {
     "data": {
      "text/html": [
       "<div class=\"tex2jax_ignore\" style=\"line-height: 1.6em; white-space: pre-wrap\"><span style=\"border-bottom: 2px solid #aec7e8; padding-bottom: 1px\">переходы на Сенную пл. и Спасскую</span> закрыты</div>"
      ],
      "text/plain": [
       "LineMarkup('переходы на Сенную пл. и Спасскую закрыты',\n",
       "           [Span(0, 33, '#aec7e8')])"
      ]
     },
     "metadata": {},
     "output_type": "display_data"
    },
    {
     "data": {
      "text/html": [
       "<div class=\"tex2jax_ignore\" style=\"line-height: 1.6em; white-space: pre-wrap\"><span style=\"border-bottom: 2px solid #aec7e8; padding-bottom: 1px\">переход Тн1- Тн2</span> открыт</div>"
      ],
      "text/plain": [
       "LineMarkup('переход Тн1- Тн2 открыт', [Span(0, 16, '#aec7e8')])"
      ]
     },
     "metadata": {},
     "output_type": "display_data"
    },
    {
     "data": {
      "text/html": [
       "<div class=\"tex2jax_ignore\" style=\"line-height: 1.6em; white-space: pre-wrap\"><span style=\"border-bottom: 2px solid #aec7e8; padding-bottom: 1px\">переход между ст. Сенная площадь и Спасская</span> закрыт</div>"
      ],
      "text/plain": [
       "LineMarkup('переход между ст. Сенная площадь и Спасская закрыт',\n",
       "           [Span(0, 43, '#aec7e8')])"
      ]
     },
     "metadata": {},
     "output_type": "display_data"
    },
    {
     "data": {
      "text/html": [
       "<div class=\"tex2jax_ignore\" style=\"line-height: 1.6em; white-space: pre-wrap\"><span style=\"border-bottom: 2px solid #aec7e8; padding-bottom: 1px\">переход между ст. Технологический институт 1 и 2</span> открыт</div>"
      ],
      "text/plain": [
       "LineMarkup('переход между ст. Технологический институт 1 и 2 открыт',\n",
       "           [Span(0, 48, '#aec7e8')])"
      ]
     },
     "metadata": {},
     "output_type": "display_data"
    }
   ],
   "source": [
    "from notebook.transfer import TRANSFER\n",
    "\n",
    "test(TRANSFER,\n",
    "     ['переход Гостиный двор- Невский пр. открыт', 'переход Гостиный двор- Невский пр.'],\n",
    "     ['Переход со ст. м. «Озерки» на ст.Владимирская закрыт', 'Переход со ст. м. «Озерки» на ст.Владимирская'],\n",
    "     ['переход на верхнюю платформу закрыт', 'переход на верхнюю платформу'],\n",
    "     ['Ст. пл. Ал.Невского2 и переход Ал.Невского1-2 закрыт', 'переход Ал.Невского1-2'],\n",
    "     ['и переходы с Гостиного двора открыты', 'переходы с Гостиного двора'],\n",
    "     ['переход Влад.- Достоевская закрыты', 'переход Влад.- Достоевская'],\n",
    "     ['переходы на Сенную пл. и Спасскую закрыты', 'переходы на Сенную пл. и Спасскую'],\n",
    "     ['переход Тн1- Тн2 открыт', 'переход Тн1- Тн2'],\n",
    "     ['переход между ст. Сенная площадь и Спасская закрыт', 'переход между ст. Сенная площадь и Спасская'],\n",
    "     ['переход между ст. Технологический институт 1 и 2 открыт', 'переход между ст. Технологический институт 1 и 2'],\n",
    "    facts=False)\n",
    "\n",
    "# test_samples([LIST_OF_STATIONS.named('2')], texts, fact=True)"
   ]
  },
  {
   "cell_type": "code",
   "execution_count": 29,
   "metadata": {
    "scrolled": false
   },
   "outputs": [
    {
     "data": {
      "text/html": [
       "<div class=\"tex2jax_ignore\" style=\"line-height: 1.6em; white-space: pre-wrap\">в 14 - 09 <span style=\"border-bottom: 2px solid #ff9896; padding-bottom: 1px\">ст . спасская и переходы на ст . садовая и ст . сенная площадь</span> закрыты из - за бесхозного предмета</div>"
      ],
      "text/plain": [
       "LineMarkup('в 14 - 09 ст . спасская и переходы на ст . садовая и ст . сенная площадь закрыты из - за бесхозного предмета',\n",
       "           [Span(10, 72, '#ff9896')])"
      ]
     },
     "metadata": {},
     "output_type": "display_data"
    },
    {
     "data": {
      "text/html": [
       "<div class=\"tex2jax_ignore\" style=\"line-height: 1.6em; white-space: pre-wrap\"><span style=\"border-bottom: 2px solid #ff9896; padding-bottom: 1px\">ст . сенная площадь и переходы на ст . садовая и ст . спасская</span> закрыты из - за ананомного сообщения</div>"
      ],
      "text/plain": [
       "LineMarkup('ст . сенная площадь и переходы на ст . садовая и ст . спасская закрыты из - за ананомного сообщения',\n",
       "           [Span(0, 62, '#ff9896')])"
      ]
     },
     "metadata": {},
     "output_type": "display_data"
    },
    {
     "data": {
      "text/html": [
       "<div class=\"tex2jax_ignore\" style=\"line-height: 1.6em; white-space: pre-wrap\"><span style=\"border-bottom: 2px solid #ff9896; padding-bottom: 1px\">Ст. «пл. Ал.Невского2» и переход Ал.Невского1-2</span> закрыт</div>"
      ],
      "text/plain": [
       "LineMarkup('Ст. «пл. Ал.Невского2» и переход Ал.Невского1-2 закрыт',\n",
       "           [Span(0, 47, '#ff9896')])"
      ]
     },
     "metadata": {},
     "output_type": "display_data"
    }
   ],
   "source": [
    "from notebook.transfer import STATION_AND_TRANSFER, TRANSFER, STATION\n",
    "\n",
    "test(STATION_AND_TRANSFER,\n",
    "    ['в 14 - 09 ст . спасская и переходы на ст . садовая и ст . сенная площадь закрыты из - за бесхозного предмета'],\n",
    "    ['ст . сенная площадь и переходы на ст . садовая и ст . спасская закрыты из - за ананомного сообщения'],\n",
    "    ['Ст. «пл. Ал.Невского2» и переход Ал.Невского1-2 закрыт'],\n",
    "    facts=False)\n",
    "\n",
    "# test_samples([STATION_AND_TRANSFER.named(''), TRANSFER.named('1')], texts, markup=LineMarkup)"
   ]
  },
  {
   "cell_type": "code",
   "execution_count": 68,
   "metadata": {},
   "outputs": [
    {
     "data": {
      "text/html": [
       "<div class=\"tex2jax_ignore\" style=\"line-height: 1.6em; white-space: pre-wrap\">Станция <span style=\"border-bottom: 2px solid #aec7e8; padding-bottom: 1px\">была на вход закрыта</span>. станция <span style=\"border-bottom: 2px solid #aec7e8; padding-bottom: 1px\">не работает</span>.</div>"
      ],
      "text/plain": [
       "LineMarkup('Станция была на вход закрыта. станция не работает.',\n",
       "           [Span(8, 28, '#aec7e8'), Span(38, 49, '#aec7e8')])"
      ]
     },
     "metadata": {},
     "output_type": "display_data"
    },
    {
     "data": {
      "text/html": [
       "<div class=\"tex2jax_ignore\" style=\"line-height: 1.6em; white-space: pre-wrap\"><span style=\"border-bottom: 2px solid #aec7e8; padding-bottom: 1px\">Работает и на вход и на выход</span></div>"
      ],
      "text/plain": [
       "LineMarkup('Работает и на вход и на выход', [Span(0, 29, '#aec7e8')])"
      ]
     },
     "metadata": {},
     "output_type": "display_data"
    },
    {
     "data": {
      "text/html": [
       "<div class=\"tex2jax_ignore\" style=\"line-height: 1.6em; white-space: pre-wrap\">Девяткино <span style=\"border-bottom: 2px solid #aec7e8; padding-bottom: 1px\">закрыта на вход</span> (<span style=\"border-bottom: 2px solid #aec7e8; padding-bottom: 1px\">на выход работает</span>)</div>"
      ],
      "text/plain": [
       "LineMarkup('Девяткино закрыта на вход (на выход работает)',\n",
       "           [Span(10, 25, '#aec7e8'), Span(27, 44, '#aec7e8')])"
      ]
     },
     "metadata": {},
     "output_type": "display_data"
    },
    {
     "data": {
      "text/html": [
       "<div class=\"tex2jax_ignore\" style=\"line-height: 1.6em; white-space: pre-wrap\">институт <span style=\"border-bottom: 2px solid #aec7e8; padding-bottom: 1px\">закрыта на вход</span>, <span style=\"border-bottom: 2px solid #aec7e8; padding-bottom: 1px\">на выход работает</span></div>"
      ],
      "text/plain": [
       "LineMarkup('институт закрыта на вход, на выход работает',\n",
       "           [Span(9, 24, '#aec7e8'), Span(26, 43, '#aec7e8')])"
      ]
     },
     "metadata": {},
     "output_type": "display_data"
    },
    {
     "data": {
      "text/html": [
       "<div class=\"tex2jax_ignore\" style=\"line-height: 1.6em; white-space: pre-wrap\">Чернышевская <span style=\"border-bottom: 2px solid #aec7e8; padding-bottom: 1px\">на выход работает</span>, <span style=\"border-bottom: 2px solid #aec7e8; padding-bottom: 1px\">закрыта только на вход</span>, <span style=\"border-bottom: 2px solid #aec7e8; padding-bottom: 1px\">работает только выход</span></div>"
      ],
      "text/plain": [
       "LineMarkup('Чернышевская на выход работает, закрыта только на вход, работает только выход',\n",
       "           [Span(13, 30, '#aec7e8'),\n",
       "            Span(32, 54, '#aec7e8'),\n",
       "            Span(56, 77, '#aec7e8')])"
      ]
     },
     "metadata": {},
     "output_type": "display_data"
    },
    {
     "data": {
      "text/html": [
       "<div class=\"tex2jax_ignore\" style=\"line-height: 1.6em; white-space: pre-wrap\">Павильон-2 <span style=\"border-bottom: 2px solid #aec7e8; padding-bottom: 1px\">работает в нормальном режиме</span></div>"
      ],
      "text/plain": [
       "LineMarkup('Павильон-2 работает в нормальном режиме',\n",
       "           [Span(11, 39, '#aec7e8')])"
      ]
     },
     "metadata": {},
     "output_type": "display_data"
    },
    {
     "data": {
      "text/html": [
       "<div class=\"tex2jax_ignore\" style=\"line-height: 1.6em; white-space: pre-wrap\">Девяткино <span style=\"border-bottom: 2px solid #aec7e8; padding-bottom: 1px\">не закрыта на вход</span> (<span style=\"border-bottom: 2px solid #aec7e8; padding-bottom: 1px\">выход не работает</span>)</div>"
      ],
      "text/plain": [
       "LineMarkup('Девяткино не закрыта на вход (выход не работает)',\n",
       "           [Span(10, 28, '#aec7e8'), Span(30, 47, '#aec7e8')])"
      ]
     },
     "metadata": {},
     "output_type": "display_data"
    }
   ],
   "source": [
    "from notebook.working import *\n",
    "\n",
    "test(WORKING,\n",
    "    ['Станция была на вход закрыта. станция не работает.', 'была на вход закрыта', 'не работает'],\n",
    "    ['Работает и на вход и на выход', 'Работает и на вход и на выход'],\n",
    "    ['Девяткино закрыта на вход (на выход работает)', 'закрыта на вход', 'на выход работает'],\n",
    "    ['институт закрыта на вход, на выход работает', 'закрыта на вход', 'на выход работает'],\n",
    "    ['Чернышевская на выход работает, закрыта только на вход, работает только выход',\n",
    "     'на выход работает', 'закрыта только на вход', 'работает только выход'],\n",
    "    ['Павильон-2 работает в нормальном режиме', 'работает в нормальном режиме'],\n",
    "    ['Девяткино не закрыта на вход (выход не работает)', 'не закрыта на вход', 'выход не работает'],\n",
    "    facts=False)"
   ]
  },
  {
   "cell_type": "code",
   "execution_count": 11,
   "metadata": {},
   "outputs": [],
   "source": [
    "import pandas as pd\n",
    "from datetime import datetime as dt\n",
    "%run structure.py\n",
    "\n",
    "x = [_.date for _ in History.load()]\n",
    "d = pd.DataFrame({\"date\": pd.to_datetime(x, unit='s')})\n",
    "d['day'] = d['date'].map(lambda d: d.toordinal())\n",
    "\n",
    "kek = d.day.value_counts()\n",
    "kek\n",
    "e = kek.reset_index(name='freq').set_index(kek.index.map(dt.fromordinal))\n",
    "e.freq = e.freq.map(lambda x: x // 2)\n",
    "# (e / 734).freq.sum()\n",
    "# e"
   ]
  }
 ],
 "metadata": {
  "kernelspec": {
   "display_name": "Python 3",
   "language": "python",
   "name": "python3"
  },
  "language_info": {
   "codemirror_mode": {
    "name": "ipython",
    "version": 3
   },
   "file_extension": ".py",
   "mimetype": "text/x-python",
   "name": "python",
   "nbconvert_exporter": "python",
   "pygments_lexer": "ipython3",
   "version": "3.7.1"
  }
 },
 "nbformat": 4,
 "nbformat_minor": 2
}
